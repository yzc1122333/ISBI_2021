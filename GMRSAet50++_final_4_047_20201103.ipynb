{
  "nbformat": 4,
  "nbformat_minor": 0,
  "metadata": {
    "accelerator": "TPU",
    "colab": {
      "name": "GMRSAet50++ final_4.047_20201103.ipynb",
      "provenance": [],
      "collapsed_sections": [],
      "machine_shape": "hm",
      "include_colab_link": true
    },
    "kernelspec": {
      "display_name": "Python 3",
      "name": "python3"
    },
    "widgets": {
      "application/vnd.jupyter.widget-state+json": {
        "18a94cf5ff0a4937903061782aa625c9": {
          "model_module": "@jupyter-widgets/controls",
          "model_name": "HBoxModel",
          "state": {
            "_view_name": "HBoxView",
            "_dom_classes": [],
            "_model_name": "HBoxModel",
            "_view_module": "@jupyter-widgets/controls",
            "_model_module_version": "1.5.0",
            "_view_count": null,
            "_view_module_version": "1.5.0",
            "box_style": "",
            "layout": "IPY_MODEL_c6e555a193fd44d99f24804ab49a9888",
            "_model_module": "@jupyter-widgets/controls",
            "children": [
              "IPY_MODEL_cd983b0efaf74aa28c7b42c95019af0a",
              "IPY_MODEL_2ed7bd88598149da80ce10eff5f84235"
            ]
          }
        },
        "c6e555a193fd44d99f24804ab49a9888": {
          "model_module": "@jupyter-widgets/base",
          "model_name": "LayoutModel",
          "state": {
            "_view_name": "LayoutView",
            "grid_template_rows": null,
            "right": null,
            "justify_content": null,
            "_view_module": "@jupyter-widgets/base",
            "overflow": null,
            "_model_module_version": "1.2.0",
            "_view_count": null,
            "flex_flow": null,
            "width": null,
            "min_width": null,
            "border": null,
            "align_items": null,
            "bottom": null,
            "_model_module": "@jupyter-widgets/base",
            "top": null,
            "grid_column": null,
            "overflow_y": null,
            "overflow_x": null,
            "grid_auto_flow": null,
            "grid_area": null,
            "grid_template_columns": null,
            "flex": null,
            "_model_name": "LayoutModel",
            "justify_items": null,
            "grid_row": null,
            "max_height": null,
            "align_content": null,
            "visibility": null,
            "align_self": null,
            "height": null,
            "min_height": null,
            "padding": null,
            "grid_auto_rows": null,
            "grid_gap": null,
            "max_width": null,
            "order": null,
            "_view_module_version": "1.2.0",
            "grid_template_areas": null,
            "object_position": null,
            "object_fit": null,
            "grid_auto_columns": null,
            "margin": null,
            "display": null,
            "left": null
          }
        },
        "cd983b0efaf74aa28c7b42c95019af0a": {
          "model_module": "@jupyter-widgets/controls",
          "model_name": "FloatProgressModel",
          "state": {
            "_view_name": "ProgressView",
            "style": "IPY_MODEL_e483c935271b436299857708610147cd",
            "_dom_classes": [],
            "description": "100%",
            "_model_name": "FloatProgressModel",
            "bar_style": "success",
            "max": 102502400,
            "_view_module": "@jupyter-widgets/controls",
            "_model_module_version": "1.5.0",
            "value": 102502400,
            "_view_count": null,
            "_view_module_version": "1.5.0",
            "orientation": "horizontal",
            "min": 0,
            "description_tooltip": null,
            "_model_module": "@jupyter-widgets/controls",
            "layout": "IPY_MODEL_8a07da75f2a4479788793fea52e78080"
          }
        },
        "2ed7bd88598149da80ce10eff5f84235": {
          "model_module": "@jupyter-widgets/controls",
          "model_name": "HTMLModel",
          "state": {
            "_view_name": "HTMLView",
            "style": "IPY_MODEL_1021840454d64ebca635a9009eb3e053",
            "_dom_classes": [],
            "description": "",
            "_model_name": "HTMLModel",
            "placeholder": "​",
            "_view_module": "@jupyter-widgets/controls",
            "_model_module_version": "1.5.0",
            "value": " 97.8M/97.8M [00:03&lt;00:00, 28.4MB/s]",
            "_view_count": null,
            "_view_module_version": "1.5.0",
            "description_tooltip": null,
            "_model_module": "@jupyter-widgets/controls",
            "layout": "IPY_MODEL_7b1c07a070a54c229d7361812becb6a3"
          }
        },
        "e483c935271b436299857708610147cd": {
          "model_module": "@jupyter-widgets/controls",
          "model_name": "ProgressStyleModel",
          "state": {
            "_view_name": "StyleView",
            "_model_name": "ProgressStyleModel",
            "description_width": "initial",
            "_view_module": "@jupyter-widgets/base",
            "_model_module_version": "1.5.0",
            "_view_count": null,
            "_view_module_version": "1.2.0",
            "bar_color": null,
            "_model_module": "@jupyter-widgets/controls"
          }
        },
        "8a07da75f2a4479788793fea52e78080": {
          "model_module": "@jupyter-widgets/base",
          "model_name": "LayoutModel",
          "state": {
            "_view_name": "LayoutView",
            "grid_template_rows": null,
            "right": null,
            "justify_content": null,
            "_view_module": "@jupyter-widgets/base",
            "overflow": null,
            "_model_module_version": "1.2.0",
            "_view_count": null,
            "flex_flow": null,
            "width": null,
            "min_width": null,
            "border": null,
            "align_items": null,
            "bottom": null,
            "_model_module": "@jupyter-widgets/base",
            "top": null,
            "grid_column": null,
            "overflow_y": null,
            "overflow_x": null,
            "grid_auto_flow": null,
            "grid_area": null,
            "grid_template_columns": null,
            "flex": null,
            "_model_name": "LayoutModel",
            "justify_items": null,
            "grid_row": null,
            "max_height": null,
            "align_content": null,
            "visibility": null,
            "align_self": null,
            "height": null,
            "min_height": null,
            "padding": null,
            "grid_auto_rows": null,
            "grid_gap": null,
            "max_width": null,
            "order": null,
            "_view_module_version": "1.2.0",
            "grid_template_areas": null,
            "object_position": null,
            "object_fit": null,
            "grid_auto_columns": null,
            "margin": null,
            "display": null,
            "left": null
          }
        },
        "1021840454d64ebca635a9009eb3e053": {
          "model_module": "@jupyter-widgets/controls",
          "model_name": "DescriptionStyleModel",
          "state": {
            "_view_name": "StyleView",
            "_model_name": "DescriptionStyleModel",
            "description_width": "",
            "_view_module": "@jupyter-widgets/base",
            "_model_module_version": "1.5.0",
            "_view_count": null,
            "_view_module_version": "1.2.0",
            "_model_module": "@jupyter-widgets/controls"
          }
        },
        "7b1c07a070a54c229d7361812becb6a3": {
          "model_module": "@jupyter-widgets/base",
          "model_name": "LayoutModel",
          "state": {
            "_view_name": "LayoutView",
            "grid_template_rows": null,
            "right": null,
            "justify_content": null,
            "_view_module": "@jupyter-widgets/base",
            "overflow": null,
            "_model_module_version": "1.2.0",
            "_view_count": null,
            "flex_flow": null,
            "width": null,
            "min_width": null,
            "border": null,
            "align_items": null,
            "bottom": null,
            "_model_module": "@jupyter-widgets/base",
            "top": null,
            "grid_column": null,
            "overflow_y": null,
            "overflow_x": null,
            "grid_auto_flow": null,
            "grid_area": null,
            "grid_template_columns": null,
            "flex": null,
            "_model_name": "LayoutModel",
            "justify_items": null,
            "grid_row": null,
            "max_height": null,
            "align_content": null,
            "visibility": null,
            "align_self": null,
            "height": null,
            "min_height": null,
            "padding": null,
            "grid_auto_rows": null,
            "grid_gap": null,
            "max_width": null,
            "order": null,
            "_view_module_version": "1.2.0",
            "grid_template_areas": null,
            "object_position": null,
            "object_fit": null,
            "grid_auto_columns": null,
            "margin": null,
            "display": null,
            "left": null
          }
        }
      }
    }
  },
  "cells": [
    {
      "cell_type": "markdown",
      "metadata": {
        "id": "view-in-github",
        "colab_type": "text"
      },
      "source": [
        "<a href=\"https://colab.research.google.com/github/yzc1122333/ISBI_2021/blob/main/GMRSAet50%2B%2B_final_4_047_20201103.ipynb\" target=\"_parent\"><img src=\"https://colab.research.google.com/assets/colab-badge.svg\" alt=\"Open In Colab\"/></a>"
      ]
    },
    {
      "cell_type": "code",
      "metadata": {
        "colab": {
          "base_uri": "https://localhost:8080/"
        },
        "id": "Vg2N16KFlrHZ",
        "outputId": "d7e81002-28a5-4492-a5cf-5786358ae4f6"
      },
      "source": [
        "from google.colab import drive\n",
        "drive.mount('/content/drive')"
      ],
      "execution_count": 1,
      "outputs": [
        {
          "output_type": "stream",
          "text": [
            "Mounted at /content/drive\n"
          ],
          "name": "stdout"
        }
      ]
    },
    {
      "cell_type": "markdown",
      "metadata": {
        "id": "VVm7g0sGPWl6"
      },
      "source": [
        ""
      ]
    },
    {
      "cell_type": "code",
      "metadata": {
        "colab": {
          "base_uri": "https://localhost:8080/"
        },
        "id": "N_8OjcJMY61e",
        "outputId": "8a6f0a31-a955-46ff-e985-9672d1b8ee55"
      },
      "source": [
        "!curl https://raw.githubusercontent.com/pytorch/xla/master/contrib/scripts/env-setup.py -o pytorch-xla-env-setup.py\n",
        "!python pytorch-xla-env-setup.py --version 20201102 --apt-packages libomp5 libopenblas-dev"
      ],
      "execution_count": 2,
      "outputs": [
        {
          "output_type": "stream",
          "text": [
            "  % Total    % Received % Xferd  Average Speed   Time    Time     Time  Current\n",
            "                                 Dload  Upload   Total   Spent    Left  Speed\n",
            "100  5116  100  5116    0     0  18014      0 --:--:-- --:--:-- --:--:-- 18014\n",
            "Updating... This may take around 2 minutes.\n",
            "Updating TPU runtime to pytorch-dev20201102 ...\n",
            "Collecting cloud-tpu-client\n",
            "  Downloading https://files.pythonhosted.org/packages/56/9f/7b1958c2886db06feb5de5b2c191096f9e619914b6c31fdf93999fdbbd8b/cloud_tpu_client-0.10-py3-none-any.whl\n",
            "Requirement already satisfied: oauth2client in /usr/local/lib/python3.6/dist-packages (from cloud-tpu-client) (4.1.3)\n",
            "Collecting google-api-python-client==1.8.0\n",
            "\u001b[?25l  Downloading https://files.pythonhosted.org/packages/9a/b4/a955f393b838bc47cbb6ae4643b9d0f90333d3b4db4dc1e819f36aad18cc/google_api_python_client-1.8.0-py3-none-any.whl (57kB)\n",
            "\u001b[K     |██████████████████████▊         | 40kB 10.3MB/s eta 0:00:01Uninstalling torch-1.7.0+cu101:\n",
            "\u001b[K     |████████████████████████████████| 61kB 3.8MB/s \n",
            "\u001b[?25hRequirement already satisfied: rsa>=3.1.4 in /usr/local/lib/python3.6/dist-packages (from oauth2client->cloud-tpu-client) (4.6)\n",
            "Requirement already satisfied: six>=1.6.1 in /usr/local/lib/python3.6/dist-packages (from oauth2client->cloud-tpu-client) (1.15.0)\n",
            "Requirement already satisfied: pyasn1-modules>=0.0.5 in /usr/local/lib/python3.6/dist-packages (from oauth2client->cloud-tpu-client) (0.2.8)\n",
            "Requirement already satisfied: httplib2>=0.9.1 in /usr/local/lib/python3.6/dist-packages (from oauth2client->cloud-tpu-client) (0.17.4)\n",
            "Requirement already satisfied: pyasn1>=0.1.7 in /usr/local/lib/python3.6/dist-packages (from oauth2client->cloud-tpu-client) (0.4.8)\n",
            "Requirement already satisfied: google-auth>=1.4.1 in /usr/local/lib/python3.6/dist-packages (from google-api-python-client==1.8.0->cloud-tpu-client) (1.17.2)\n",
            "Requirement already satisfied: uritemplate<4dev,>=3.0.0 in /usr/local/lib/python3.6/dist-packages (from google-api-python-client==1.8.0->cloud-tpu-client) (3.0.1)\n",
            "Requirement already satisfied: google-api-core<2dev,>=1.13.0 in /usr/local/lib/python3.6/dist-packages (from google-api-python-client==1.8.0->cloud-tpu-client) (1.16.0)\n",
            "Requirement already satisfied: google-auth-httplib2>=0.0.3 in /usr/local/lib/python3.6/dist-packages (from google-api-python-client==1.8.0->cloud-tpu-client) (0.0.4)\n",
            "Requirement already satisfied: cachetools<5.0,>=2.0.0 in /usr/local/lib/python3.6/dist-packages (from google-auth>=1.4.1->google-api-python-client==1.8.0->cloud-tpu-client) (4.1.1)\n",
            "Requirement already satisfied: setuptools>=40.3.0 in /usr/local/lib/python3.6/dist-packages (from google-auth>=1.4.1->google-api-python-client==1.8.0->cloud-tpu-client) (50.3.2)\n",
            "Requirement already satisfied: pytz in /usr/local/lib/python3.6/dist-packages (from google-api-core<2dev,>=1.13.0->google-api-python-client==1.8.0->cloud-tpu-client) (2018.9)\n",
            "Requirement already satisfied: requests<3.0.0dev,>=2.18.0 in /usr/local/lib/python3.6/dist-packages (from google-api-core<2dev,>=1.13.0->google-api-python-client==1.8.0->cloud-tpu-client) (2.23.0)\n",
            "Requirement already satisfied: googleapis-common-protos<2.0dev,>=1.6.0 in /usr/local/lib/python3.6/dist-packages (from google-api-core<2dev,>=1.13.0->google-api-python-client==1.8.0->cloud-tpu-client) (1.52.0)\n",
            "Requirement already satisfied: protobuf>=3.4.0 in /usr/local/lib/python3.6/dist-packages (from google-api-core<2dev,>=1.13.0->google-api-python-client==1.8.0->cloud-tpu-client) (3.12.4)\n",
            "Requirement already satisfied: urllib3!=1.25.0,!=1.25.1,<1.26,>=1.21.1 in /usr/local/lib/python3.6/dist-packages (from requests<3.0.0dev,>=2.18.0->google-api-core<2dev,>=1.13.0->google-api-python-client==1.8.0->cloud-tpu-client) (1.24.3)\n",
            "Requirement already satisfied: certifi>=2017.4.17 in /usr/local/lib/python3.6/dist-packages (from requests<3.0.0dev,>=2.18.0->google-api-core<2dev,>=1.13.0->google-api-python-client==1.8.0->cloud-tpu-client) (2020.11.8)\n",
            "Requirement already satisfied: chardet<4,>=3.0.2 in /usr/local/lib/python3.6/dist-packages (from requests<3.0.0dev,>=2.18.0->google-api-core<2dev,>=1.13.0->google-api-python-client==1.8.0->cloud-tpu-client) (3.0.4)\n",
            "Requirement already satisfied: idna<3,>=2.5 in /usr/local/lib/python3.6/dist-packages (from requests<3.0.0dev,>=2.18.0->google-api-core<2dev,>=1.13.0->google-api-python-client==1.8.0->cloud-tpu-client) (2.10)\n",
            "Installing collected packages: google-api-python-client, cloud-tpu-client\n",
            "  Found existing installation: google-api-python-client 1.7.12\n",
            "    Uninstalling google-api-python-client-1.7.12:\n",
            "      Successfully uninstalled google-api-python-client-1.7.12\n",
            "Successfully installed cloud-tpu-client-0.10 google-api-python-client-1.8.0\n",
            "  Successfully uninstalled torch-1.7.0+cu101\n",
            "Uninstalling torchvision-0.8.1+cu101:\n",
            "  Successfully uninstalled torchvision-0.8.1+cu101\n",
            "Copying gs://tpu-pytorch/wheels/torch-nightly+20201102-cp36-cp36m-linux_x86_64.whl...\n",
            "\\ [1 files][117.0 MiB/117.0 MiB]                                                \n",
            "Operation completed over 1 objects/117.0 MiB.                                    \n",
            "Copying gs://tpu-pytorch/wheels/torch_xla-nightly+20201102-cp36-cp36m-linux_x86_64.whl...\n",
            "Done updating TPU runtime\n",
            "- [1 files][127.5 MiB/127.5 MiB]                                                \n",
            "Operation completed over 1 objects/127.5 MiB.                                    \n",
            "Copying gs://tpu-pytorch/wheels/torchvision-nightly+20201102-cp36-cp36m-linux_x86_64.whl...\n",
            "/ [1 files][  3.2 MiB/  3.2 MiB]                                                \n",
            "Operation completed over 1 objects/3.2 MiB.                                      \n",
            "Processing ./torch-nightly+20201102-cp36-cp36m-linux_x86_64.whl\n",
            "Requirement already satisfied: numpy in /usr/local/lib/python3.6/dist-packages (from torch==nightly+20201102) (1.18.5)\n",
            "Requirement already satisfied: dataclasses; python_version < \"3.7\" in /usr/local/lib/python3.6/dist-packages (from torch==nightly+20201102) (0.8)\n",
            "Requirement already satisfied: typing-extensions in /usr/local/lib/python3.6/dist-packages (from torch==nightly+20201102) (3.7.4.3)\n",
            "\u001b[31mERROR: fastai 1.0.61 requires torchvision, which is not installed.\u001b[0m\n",
            "Installing collected packages: torch\n",
            "Successfully installed torch-1.8.0a0\n",
            "Processing ./torch_xla-nightly+20201102-cp36-cp36m-linux_x86_64.whl\n",
            "Installing collected packages: torch-xla\n",
            "Successfully installed torch-xla-1.6+2cd4f07\n",
            "Processing ./torchvision-nightly+20201102-cp36-cp36m-linux_x86_64.whl\n",
            "Requirement already satisfied: torch in /usr/local/lib/python3.6/dist-packages (from torchvision==nightly+20201102) (1.8.0a0)\n",
            "Requirement already satisfied: pillow>=4.1.1 in /usr/local/lib/python3.6/dist-packages (from torchvision==nightly+20201102) (7.0.0)\n",
            "Requirement already satisfied: numpy in /usr/local/lib/python3.6/dist-packages (from torchvision==nightly+20201102) (1.18.5)\n",
            "Requirement already satisfied: dataclasses; python_version < \"3.7\" in /usr/local/lib/python3.6/dist-packages (from torch->torchvision==nightly+20201102) (0.8)\n",
            "Requirement already satisfied: typing-extensions in /usr/local/lib/python3.6/dist-packages (from torch->torchvision==nightly+20201102) (3.7.4.3)\n",
            "Installing collected packages: torchvision\n",
            "Successfully installed torchvision-0.9.0a0+f95b053\n",
            "Reading package lists... Done\n",
            "Building dependency tree       \n",
            "Reading state information... Done\n",
            "libopenblas-dev is already the newest version (0.2.20+ds-4).\n",
            "The following NEW packages will be installed:\n",
            "  libomp5\n",
            "0 upgraded, 1 newly installed, 0 to remove and 14 not upgraded.\n",
            "Need to get 234 kB of archives.\n",
            "After this operation, 774 kB of additional disk space will be used.\n",
            "Get:1 http://archive.ubuntu.com/ubuntu bionic/universe amd64 libomp5 amd64 5.0.1-1 [234 kB]\n",
            "Fetched 234 kB in 1s (297 kB/s)\n",
            "Selecting previously unselected package libomp5:amd64.\n",
            "(Reading database ... 144793 files and directories currently installed.)\n",
            "Preparing to unpack .../libomp5_5.0.1-1_amd64.deb ...\n",
            "Unpacking libomp5:amd64 (5.0.1-1) ...\n",
            "Setting up libomp5:amd64 (5.0.1-1) ...\n",
            "Processing triggers for libc-bin (2.27-3ubuntu1.2) ...\n",
            "/sbin/ldconfig.real: /usr/local/lib/python3.6/dist-packages/ideep4py/lib/libmkldnn.so.0 is not a symbolic link\n",
            "\n"
          ],
          "name": "stdout"
        }
      ]
    },
    {
      "cell_type": "code",
      "metadata": {
        "colab": {
          "base_uri": "https://localhost:8080/"
        },
        "id": "qJATr3IgUqWY",
        "outputId": "2b446d55-316f-4858-98a6-fcd3fe1b8d42"
      },
      "source": [
        "!pip install pretrainedmodels"
      ],
      "execution_count": 3,
      "outputs": [
        {
          "output_type": "stream",
          "text": [
            "Collecting pretrainedmodels\n",
            "\u001b[?25l  Downloading https://files.pythonhosted.org/packages/84/0e/be6a0e58447ac16c938799d49bfb5fb7a80ac35e137547fc6cee2c08c4cf/pretrainedmodels-0.7.4.tar.gz (58kB)\n",
            "\r\u001b[K     |█████▋                          | 10kB 15.2MB/s eta 0:00:01\r\u001b[K     |███████████▏                    | 20kB 13.1MB/s eta 0:00:01\r\u001b[K     |████████████████▊               | 30kB 9.7MB/s eta 0:00:01\r\u001b[K     |██████████████████████▎         | 40kB 8.3MB/s eta 0:00:01\r\u001b[K     |███████████████████████████▉    | 51kB 5.2MB/s eta 0:00:01\r\u001b[K     |████████████████████████████████| 61kB 3.5MB/s \n",
            "\u001b[?25hRequirement already satisfied: torch in /usr/local/lib/python3.6/dist-packages (from pretrainedmodels) (1.8.0a0)\n",
            "Requirement already satisfied: torchvision in /usr/local/lib/python3.6/dist-packages (from pretrainedmodels) (0.9.0a0+f95b053)\n",
            "Collecting munch\n",
            "  Downloading https://files.pythonhosted.org/packages/cc/ab/85d8da5c9a45e072301beb37ad7f833cd344e04c817d97e0cc75681d248f/munch-2.5.0-py2.py3-none-any.whl\n",
            "Requirement already satisfied: tqdm in /usr/local/lib/python3.6/dist-packages (from pretrainedmodels) (4.41.1)\n",
            "Requirement already satisfied: numpy in /usr/local/lib/python3.6/dist-packages (from torch->pretrainedmodels) (1.18.5)\n",
            "Requirement already satisfied: typing-extensions in /usr/local/lib/python3.6/dist-packages (from torch->pretrainedmodels) (3.7.4.3)\n",
            "Requirement already satisfied: dataclasses; python_version < \"3.7\" in /usr/local/lib/python3.6/dist-packages (from torch->pretrainedmodels) (0.8)\n",
            "Requirement already satisfied: pillow>=4.1.1 in /usr/local/lib/python3.6/dist-packages (from torchvision->pretrainedmodels) (7.0.0)\n",
            "Requirement already satisfied: six in /usr/local/lib/python3.6/dist-packages (from munch->pretrainedmodels) (1.15.0)\n",
            "Building wheels for collected packages: pretrainedmodels\n",
            "  Building wheel for pretrainedmodels (setup.py) ... \u001b[?25l\u001b[?25hdone\n",
            "  Created wheel for pretrainedmodels: filename=pretrainedmodels-0.7.4-cp36-none-any.whl size=60964 sha256=e701f095acae34c12a82d34305190d6b1b8c77dc06fa854e68eb22926021dc20\n",
            "  Stored in directory: /root/.cache/pip/wheels/69/df/63/62583c096289713f22db605aa2334de5b591d59861a02c2ecd\n",
            "Successfully built pretrainedmodels\n",
            "Installing collected packages: munch, pretrainedmodels\n",
            "Successfully installed munch-2.5.0 pretrainedmodels-0.7.4\n"
          ],
          "name": "stdout"
        }
      ]
    },
    {
      "cell_type": "code",
      "metadata": {
        "colab": {
          "base_uri": "https://localhost:8080/"
        },
        "id": "YkxZXP1bvFKV",
        "outputId": "458b289a-12c1-4882-821a-bf66ceec3e90"
      },
      "source": [
        "!pip install albumentations==0.4.5"
      ],
      "execution_count": 4,
      "outputs": [
        {
          "output_type": "stream",
          "text": [
            "Collecting albumentations==0.4.5\n",
            "\u001b[?25l  Downloading https://files.pythonhosted.org/packages/8d/40/a343ecacc7e22fe52ab9a16b84dc6165ba05ee17e3729adeb3e2ffa2b37b/albumentations-0.4.5.tar.gz (116kB)\n",
            "\u001b[K     |████████████████████████████████| 122kB 6.9MB/s \n",
            "\u001b[?25hRequirement already satisfied: numpy>=1.11.1 in /usr/local/lib/python3.6/dist-packages (from albumentations==0.4.5) (1.18.5)\n",
            "Requirement already satisfied: scipy in /usr/local/lib/python3.6/dist-packages (from albumentations==0.4.5) (1.4.1)\n",
            "Collecting imgaug<0.2.7,>=0.2.5\n",
            "\u001b[?25l  Downloading https://files.pythonhosted.org/packages/ad/2e/748dbb7bb52ec8667098bae9b585f448569ae520031932687761165419a2/imgaug-0.2.6.tar.gz (631kB)\n",
            "\u001b[K     |████████████████████████████████| 634kB 34.6MB/s \n",
            "\u001b[?25hRequirement already satisfied: PyYAML in /usr/local/lib/python3.6/dist-packages (from albumentations==0.4.5) (3.13)\n",
            "Requirement already satisfied: opencv-python>=4.1.1 in /usr/local/lib/python3.6/dist-packages (from albumentations==0.4.5) (4.1.2.30)\n",
            "Requirement already satisfied: scikit-image>=0.11.0 in /usr/local/lib/python3.6/dist-packages (from imgaug<0.2.7,>=0.2.5->albumentations==0.4.5) (0.16.2)\n",
            "Requirement already satisfied: six in /usr/local/lib/python3.6/dist-packages (from imgaug<0.2.7,>=0.2.5->albumentations==0.4.5) (1.15.0)\n",
            "Requirement already satisfied: networkx>=2.0 in /usr/local/lib/python3.6/dist-packages (from scikit-image>=0.11.0->imgaug<0.2.7,>=0.2.5->albumentations==0.4.5) (2.5)\n",
            "Requirement already satisfied: PyWavelets>=0.4.0 in /usr/local/lib/python3.6/dist-packages (from scikit-image>=0.11.0->imgaug<0.2.7,>=0.2.5->albumentations==0.4.5) (1.1.1)\n",
            "Requirement already satisfied: matplotlib!=3.0.0,>=2.0.0 in /usr/local/lib/python3.6/dist-packages (from scikit-image>=0.11.0->imgaug<0.2.7,>=0.2.5->albumentations==0.4.5) (3.2.2)\n",
            "Requirement already satisfied: pillow>=4.3.0 in /usr/local/lib/python3.6/dist-packages (from scikit-image>=0.11.0->imgaug<0.2.7,>=0.2.5->albumentations==0.4.5) (7.0.0)\n",
            "Requirement already satisfied: imageio>=2.3.0 in /usr/local/lib/python3.6/dist-packages (from scikit-image>=0.11.0->imgaug<0.2.7,>=0.2.5->albumentations==0.4.5) (2.4.1)\n",
            "Requirement already satisfied: decorator>=4.3.0 in /usr/local/lib/python3.6/dist-packages (from networkx>=2.0->scikit-image>=0.11.0->imgaug<0.2.7,>=0.2.5->albumentations==0.4.5) (4.4.2)\n",
            "Requirement already satisfied: cycler>=0.10 in /usr/local/lib/python3.6/dist-packages (from matplotlib!=3.0.0,>=2.0.0->scikit-image>=0.11.0->imgaug<0.2.7,>=0.2.5->albumentations==0.4.5) (0.10.0)\n",
            "Requirement already satisfied: kiwisolver>=1.0.1 in /usr/local/lib/python3.6/dist-packages (from matplotlib!=3.0.0,>=2.0.0->scikit-image>=0.11.0->imgaug<0.2.7,>=0.2.5->albumentations==0.4.5) (1.3.1)\n",
            "Requirement already satisfied: pyparsing!=2.0.4,!=2.1.2,!=2.1.6,>=2.0.1 in /usr/local/lib/python3.6/dist-packages (from matplotlib!=3.0.0,>=2.0.0->scikit-image>=0.11.0->imgaug<0.2.7,>=0.2.5->albumentations==0.4.5) (2.4.7)\n",
            "Requirement already satisfied: python-dateutil>=2.1 in /usr/local/lib/python3.6/dist-packages (from matplotlib!=3.0.0,>=2.0.0->scikit-image>=0.11.0->imgaug<0.2.7,>=0.2.5->albumentations==0.4.5) (2.8.1)\n",
            "Building wheels for collected packages: albumentations, imgaug\n",
            "  Building wheel for albumentations (setup.py) ... \u001b[?25l\u001b[?25hdone\n",
            "  Created wheel for albumentations: filename=albumentations-0.4.5-cp36-none-any.whl size=64378 sha256=0fe559f9fa6597828005a96fd177796f5f4364a4e65af51fa360804fd2e5667a\n",
            "  Stored in directory: /root/.cache/pip/wheels/f0/a0/61/e50f93165a5ec7e7f5d65064e513239505bc4c06d2289557d3\n",
            "  Building wheel for imgaug (setup.py) ... \u001b[?25l\u001b[?25hdone\n",
            "  Created wheel for imgaug: filename=imgaug-0.2.6-cp36-none-any.whl size=654021 sha256=dadbf2dba82cb91a6627cdf9b3a28282879d5ff94062a5482807dc4bb3fb822c\n",
            "  Stored in directory: /root/.cache/pip/wheels/97/ec/48/0d25896c417b715af6236dbcef8f0bed136a1a5e52972fc6d0\n",
            "Successfully built albumentations imgaug\n",
            "Installing collected packages: imgaug, albumentations\n",
            "  Found existing installation: imgaug 0.2.9\n",
            "    Uninstalling imgaug-0.2.9:\n",
            "      Successfully uninstalled imgaug-0.2.9\n",
            "  Found existing installation: albumentations 0.1.12\n",
            "    Uninstalling albumentations-0.1.12:\n",
            "      Successfully uninstalled albumentations-0.1.12\n",
            "Successfully installed albumentations-0.4.5 imgaug-0.2.6\n"
          ],
          "name": "stdout"
        }
      ]
    },
    {
      "cell_type": "code",
      "metadata": {
        "id": "HRp7NhT6jVnG"
      },
      "source": [
        "import numpy as np \n",
        "import pandas as pd \n",
        "import os, sys, random\n",
        "import numpy as np\n",
        "import pandas as pd\n",
        "import cv2\n",
        "import shutil\n",
        "\n",
        "import torch\n",
        "import torch.nn as nn\n",
        "import torch.nn.functional as F\n",
        "from torchvision import transforms\n",
        "from torch import Tensor\n",
        "\n",
        "from torch.utils.data import Dataset, DataLoader\n",
        "from torch.utils.data.dataloader import _utils\n",
        "\n",
        "from random import choice\n",
        "\n",
        "from skimage import io\n",
        "from PIL import Image, ImageOps\n",
        "\n",
        "import glob\n",
        "\n",
        "#from torchsummary import summary\n",
        "import logging\n",
        "\n",
        "import matplotlib.pyplot as plt\n",
        "\n",
        "import torch.nn.functional as F\n",
        "from torch.utils.data import Dataset\n",
        "from torch.utils.data import DataLoader\n",
        "import torchvision.models as models\n",
        "# from tqdm.notebook import tqdm\n",
        "from tqdm import tqdm\n",
        "from sklearn.utils import shuffle\n",
        "# from apex import amp\n",
        "\n",
        "import random\n",
        "\n",
        "import time\n",
        "\n",
        "from torch.optim.lr_scheduler import StepLR\n",
        "from torch.nn.parameter import Parameter\n",
        "\n",
        "from albumentations.augmentations.transforms import Lambda, ShiftScaleRotate, HorizontalFlip, Normalize, RandomBrightnessContrast, RandomResizedCrop\n",
        "from albumentations.pytorch import ToTensor\n",
        "from albumentations import Compose, OneOrOther"
      ],
      "execution_count": 5,
      "outputs": []
    },
    {
      "cell_type": "code",
      "metadata": {
        "colab": {
          "base_uri": "https://localhost:8080/",
          "height": 36
        },
        "id": "IhYIc93CvtbM",
        "outputId": "6155c7ac-7732-4119-aa48-8041db41b743"
      },
      "source": [
        "import albumentations\n",
        "albumentations.__version__"
      ],
      "execution_count": 6,
      "outputs": [
        {
          "output_type": "execute_result",
          "data": {
            "application/vnd.google.colaboratory.intrinsic+json": {
              "type": "string"
            },
            "text/plain": [
              "'0.4.5'"
            ]
          },
          "metadata": {
            "tags": []
          },
          "execution_count": 6
        }
      ]
    },
    {
      "cell_type": "code",
      "metadata": {
        "colab": {
          "base_uri": "https://localhost:8080/"
        },
        "id": "CUJp0NcCW6sU",
        "outputId": "f905ffd5-aad7-4c9e-bcc0-c6347a4556fb"
      },
      "source": [
        "!cat /proc/cpuinfo | grep 'physical id' | sort | uniq | wc -l\n",
        "!cat /proc/cpuinfo |grep \"cores\"|uniq|awk '{print $4}'\n",
        "!grep 'processor' /proc/cpuinfo | sort -u | wc -l"
      ],
      "execution_count": 7,
      "outputs": [
        {
          "output_type": "stream",
          "text": [
            "1\n",
            "20\n",
            "40\n"
          ],
          "name": "stdout"
        }
      ]
    },
    {
      "cell_type": "code",
      "metadata": {
        "id": "AfzNYK4-ZKNL"
      },
      "source": [
        "import warnings\n",
        "import torch_xla\n",
        "import torch_xla.debug.metrics as met\n",
        "import torch_xla.distributed.data_parallel as dp\n",
        "import torch_xla.distributed.parallel_loader as pl\n",
        "import torch_xla.utils.utils as xu\n",
        "import torch_xla.core.xla_model as xm\n",
        "import torch_xla.distributed.xla_multiprocessing as xmp\n",
        "import torch_xla.test.test_utils as test_utils\n",
        "import warnings\n",
        "\n",
        "warnings.filterwarnings(\"ignore\")"
      ],
      "execution_count": 8,
      "outputs": []
    },
    {
      "cell_type": "code",
      "metadata": {
        "id": "MgZwl64lnnzk"
      },
      "source": [
        "def seed_everything(seed=1234):\n",
        "    random.seed(seed)\n",
        "    os.environ['PYTHONHASHSEED'] = str(seed)\n",
        "    np.random.seed(seed)\n",
        "    torch.manual_seed(seed)\n",
        "    # torch.cuda.manual_seed(seed)\n",
        "    # torch.backends.cudnn.deterministic = True"
      ],
      "execution_count": 9,
      "outputs": []
    },
    {
      "cell_type": "code",
      "metadata": {
        "id": "hNz7YC-Sq_4x"
      },
      "source": [
        "train_df = pd.read_csv(f'/content/drive/My Drive/BAA/train.csv')"
      ],
      "execution_count": 10,
      "outputs": []
    },
    {
      "cell_type": "code",
      "metadata": {
        "colab": {
          "base_uri": "https://localhost:8080/"
        },
        "id": "gzRygoRtwxkV",
        "outputId": "9d9a3cce-597a-41a3-fbe2-aa1d83408a7e"
      },
      "source": [
        "len(train_df)"
      ],
      "execution_count": 11,
      "outputs": [
        {
          "output_type": "execute_result",
          "data": {
            "text/plain": [
              "12611"
            ]
          },
          "metadata": {
            "tags": []
          },
          "execution_count": 11
        }
      ]
    },
    {
      "cell_type": "code",
      "metadata": {
        "colab": {
          "base_uri": "https://localhost:8080/",
          "height": 809
        },
        "id": "nrIOGcpz6Fra",
        "outputId": "be0c303d-e920-45f0-e614-9dc0fb24b044"
      },
      "source": [
        "plt.title('Male')\n",
        "train_df['male'].astype(int).hist()\n",
        "plt.show()\n",
        "plt.title('Female_age')\n",
        "train_df[train_df['male']==False]['boneage'].hist()\n",
        "plt.show()\n",
        "plt.title('Male_age')\n",
        "train_df[train_df['male']==True]['boneage'].hist()\n",
        "plt.show()"
      ],
      "execution_count": 12,
      "outputs": [
        {
          "output_type": "display_data",
          "data": {
            "image/png": "[encoded data removed]",
            "text/plain": [
              "<Figure size 432x288 with 1 Axes>"
            ]
          },
          "metadata": {
            "tags": [],
            "needs_background": "light"
          }
        },
        {
          "output_type": "display_data",
          "data": {
            "image/png": "[encoded data removed]",
            "text/plain": [
              "<Figure size 432x288 with 1 Axes>"
            ]
          },
          "metadata": {
            "tags": [],
            "needs_background": "light"
          }
        },
        {
          "output_type": "display_data",
          "data": {
            "image/png": "[encoded data removed]",
            "text/plain": [
              "<Figure size 432x288 with 1 Axes>"
            ]
          },
          "metadata": {
            "tags": [],
            "needs_background": "light"
          }
        }
      ]
    },
    {
      "cell_type": "code",
      "metadata": {
        "id": "mNWDSFBx9bJx"
      },
      "source": [
        "val_df = pd.read_csv(f'/content/drive/My Drive/BAA/Validation Dataset.csv')"
      ],
      "execution_count": 13,
      "outputs": []
    },
    {
      "cell_type": "code",
      "metadata": {
        "colab": {
          "base_uri": "https://localhost:8080/",
          "height": 809
        },
        "id": "H6LindwLBR3d",
        "outputId": "0d5afbfb-c91f-47d4-d5dc-94ffb5a209f5"
      },
      "source": [
        "plt.title('Male')\n",
        "val_df['male'].astype(int).hist()\n",
        "plt.show()\n",
        "plt.title('Female_age')\n",
        "val_df[train_df['male']==False]['boneage'].hist()\n",
        "plt.show()\n",
        "plt.title('Male_age')\n",
        "val_df[train_df['male']==True]['boneage'].hist()\n",
        "plt.show()"
      ],
      "execution_count": 14,
      "outputs": [
        {
          "output_type": "display_data",
          "data": {
            "image/png": "[encoded data removed]",
            "text/plain": [
              "<Figure size 432x288 with 1 Axes>"
            ]
          },
          "metadata": {
            "tags": [],
            "needs_background": "light"
          }
        },
        {
          "output_type": "display_data",
          "data": {
            "image/png": "[encoded data removed]",
            "text/plain": [
              "<Figure size 432x288 with 1 Axes>"
            ]
          },
          "metadata": {
            "tags": [],
            "needs_background": "light"
          }
        },
        {
          "output_type": "display_data",
          "data": {
            "image/png": "[encoded data removed]",
            "text/plain": [
              "<Figure size 432x288 with 1 Axes>"
            ]
          },
          "metadata": {
            "tags": [],
            "needs_background": "light"
          }
        }
      ]
    },
    {
      "cell_type": "code",
      "metadata": {
        "id": "rdX9onshZ3pk"
      },
      "source": [
        "boneage_mean = train_df['boneage'].mean()\n",
        "boneage_div = train_df['boneage'].std()"
      ],
      "execution_count": 15,
      "outputs": []
    },
    {
      "cell_type": "code",
      "metadata": {
        "colab": {
          "base_uri": "https://localhost:8080/",
          "height": 399
        },
        "id": "cp1JpnvvgYS5",
        "outputId": "43bb6624-c28c-41f5-f81d-ff9bfcbf32ef"
      },
      "source": [
        "train_df"
      ],
      "execution_count": 16,
      "outputs": [
        {
          "output_type": "execute_result",
          "data": {
            "text/html": [
              "<div>\n",
              "<style scoped>\n",
              "    .dataframe tbody tr th:only-of-type {\n",
              "        vertical-align: middle;\n",
              "    }\n",
              "\n",
              "    .dataframe tbody tr th {\n",
              "        vertical-align: top;\n",
              "    }\n",
              "\n",
              "    .dataframe thead th {\n",
              "        text-align: right;\n",
              "    }\n",
              "</style>\n",
              "<table border=\"1\" class=\"dataframe\">\n",
              "  <thead>\n",
              "    <tr style=\"text-align: right;\">\n",
              "      <th></th>\n",
              "      <th>id</th>\n",
              "      <th>boneage</th>\n",
              "      <th>male</th>\n",
              "    </tr>\n",
              "  </thead>\n",
              "  <tbody>\n",
              "    <tr>\n",
              "      <th>0</th>\n",
              "      <td>1377</td>\n",
              "      <td>180</td>\n",
              "      <td>False</td>\n",
              "    </tr>\n",
              "    <tr>\n",
              "      <th>1</th>\n",
              "      <td>1378</td>\n",
              "      <td>12</td>\n",
              "      <td>False</td>\n",
              "    </tr>\n",
              "    <tr>\n",
              "      <th>2</th>\n",
              "      <td>1379</td>\n",
              "      <td>94</td>\n",
              "      <td>False</td>\n",
              "    </tr>\n",
              "    <tr>\n",
              "      <th>3</th>\n",
              "      <td>1380</td>\n",
              "      <td>120</td>\n",
              "      <td>True</td>\n",
              "    </tr>\n",
              "    <tr>\n",
              "      <th>4</th>\n",
              "      <td>1381</td>\n",
              "      <td>82</td>\n",
              "      <td>False</td>\n",
              "    </tr>\n",
              "    <tr>\n",
              "      <th>...</th>\n",
              "      <td>...</td>\n",
              "      <td>...</td>\n",
              "      <td>...</td>\n",
              "    </tr>\n",
              "    <tr>\n",
              "      <th>12606</th>\n",
              "      <td>15605</td>\n",
              "      <td>50</td>\n",
              "      <td>False</td>\n",
              "    </tr>\n",
              "    <tr>\n",
              "      <th>12607</th>\n",
              "      <td>15606</td>\n",
              "      <td>113</td>\n",
              "      <td>False</td>\n",
              "    </tr>\n",
              "    <tr>\n",
              "      <th>12608</th>\n",
              "      <td>15608</td>\n",
              "      <td>55</td>\n",
              "      <td>False</td>\n",
              "    </tr>\n",
              "    <tr>\n",
              "      <th>12609</th>\n",
              "      <td>15609</td>\n",
              "      <td>150</td>\n",
              "      <td>True</td>\n",
              "    </tr>\n",
              "    <tr>\n",
              "      <th>12610</th>\n",
              "      <td>15610</td>\n",
              "      <td>132</td>\n",
              "      <td>True</td>\n",
              "    </tr>\n",
              "  </tbody>\n",
              "</table>\n",
              "<p>12611 rows × 3 columns</p>\n",
              "</div>"
            ],
            "text/plain": [
              "          id  boneage   male\n",
              "0       1377      180  False\n",
              "1       1378       12  False\n",
              "2       1379       94  False\n",
              "3       1380      120   True\n",
              "4       1381       82  False\n",
              "...      ...      ...    ...\n",
              "12606  15605       50  False\n",
              "12607  15606      113  False\n",
              "12608  15608       55  False\n",
              "12609  15609      150   True\n",
              "12610  15610      132   True\n",
              "\n",
              "[12611 rows x 3 columns]"
            ]
          },
          "metadata": {
            "tags": []
          },
          "execution_count": 16
        }
      ]
    },
    {
      "cell_type": "code",
      "metadata": {
        "colab": {
          "base_uri": "https://localhost:8080/",
          "height": 399
        },
        "id": "wWZVe55hgawx",
        "outputId": "344d12e0-d811-4f6e-a7cb-20295c9dc2d4"
      },
      "source": [
        "val_df"
      ],
      "execution_count": 17,
      "outputs": [
        {
          "output_type": "execute_result",
          "data": {
            "text/html": [
              "<div>\n",
              "<style scoped>\n",
              "    .dataframe tbody tr th:only-of-type {\n",
              "        vertical-align: middle;\n",
              "    }\n",
              "\n",
              "    .dataframe tbody tr th {\n",
              "        vertical-align: top;\n",
              "    }\n",
              "\n",
              "    .dataframe thead th {\n",
              "        text-align: right;\n",
              "    }\n",
              "</style>\n",
              "<table border=\"1\" class=\"dataframe\">\n",
              "  <thead>\n",
              "    <tr style=\"text-align: right;\">\n",
              "      <th></th>\n",
              "      <th>id</th>\n",
              "      <th>male</th>\n",
              "      <th>boneage</th>\n",
              "    </tr>\n",
              "  </thead>\n",
              "  <tbody>\n",
              "    <tr>\n",
              "      <th>0</th>\n",
              "      <td>1386</td>\n",
              "      <td>False</td>\n",
              "      <td>30</td>\n",
              "    </tr>\n",
              "    <tr>\n",
              "      <th>1</th>\n",
              "      <td>1392</td>\n",
              "      <td>True</td>\n",
              "      <td>162</td>\n",
              "    </tr>\n",
              "    <tr>\n",
              "      <th>2</th>\n",
              "      <td>1397</td>\n",
              "      <td>False</td>\n",
              "      <td>18</td>\n",
              "    </tr>\n",
              "    <tr>\n",
              "      <th>3</th>\n",
              "      <td>1401</td>\n",
              "      <td>False</td>\n",
              "      <td>132</td>\n",
              "    </tr>\n",
              "    <tr>\n",
              "      <th>4</th>\n",
              "      <td>1410</td>\n",
              "      <td>True</td>\n",
              "      <td>57</td>\n",
              "    </tr>\n",
              "    <tr>\n",
              "      <th>...</th>\n",
              "      <td>...</td>\n",
              "      <td>...</td>\n",
              "      <td>...</td>\n",
              "    </tr>\n",
              "    <tr>\n",
              "      <th>1420</th>\n",
              "      <td>15592</td>\n",
              "      <td>False</td>\n",
              "      <td>42</td>\n",
              "    </tr>\n",
              "    <tr>\n",
              "      <th>1421</th>\n",
              "      <td>15601</td>\n",
              "      <td>False</td>\n",
              "      <td>132</td>\n",
              "    </tr>\n",
              "    <tr>\n",
              "      <th>1422</th>\n",
              "      <td>15607</td>\n",
              "      <td>True</td>\n",
              "      <td>186</td>\n",
              "    </tr>\n",
              "    <tr>\n",
              "      <th>1423</th>\n",
              "      <td>15611</td>\n",
              "      <td>False</td>\n",
              "      <td>120</td>\n",
              "    </tr>\n",
              "    <tr>\n",
              "      <th>1424</th>\n",
              "      <td>15612</td>\n",
              "      <td>True</td>\n",
              "      <td>132</td>\n",
              "    </tr>\n",
              "  </tbody>\n",
              "</table>\n",
              "<p>1425 rows × 3 columns</p>\n",
              "</div>"
            ],
            "text/plain": [
              "         id   male  boneage\n",
              "0      1386  False       30\n",
              "1      1392   True      162\n",
              "2      1397  False       18\n",
              "3      1401  False      132\n",
              "4      1410   True       57\n",
              "...     ...    ...      ...\n",
              "1420  15592  False       42\n",
              "1421  15601  False      132\n",
              "1422  15607   True      186\n",
              "1423  15611  False      120\n",
              "1424  15612   True      132\n",
              "\n",
              "[1425 rows x 3 columns]"
            ]
          },
          "metadata": {
            "tags": []
          },
          "execution_count": 17
        }
      ]
    },
    {
      "cell_type": "code",
      "metadata": {
        "id": "UUavllAYP1LQ"
      },
      "source": [
        "test_df = pd.read_excel('/content/drive/My Drive/BAA/Bone age ground truth.xlsx')"
      ],
      "execution_count": 18,
      "outputs": []
    },
    {
      "cell_type": "markdown",
      "metadata": {
        "id": "OlDFjLhZfhx-"
      },
      "source": [
        "### Create data set"
      ]
    },
    {
      "cell_type": "code",
      "metadata": {
        "id": "Juo73f72XhZT"
      },
      "source": [
        ""
      ],
      "execution_count": 18,
      "outputs": []
    },
    {
      "cell_type": "code",
      "metadata": {
        "id": "DRfD97-YWBrw"
      },
      "source": [
        "# norm_mean = [0.485, 0.456, 0.406]\n",
        "# norm_std = [0.229, 0.224, 0.225]\n",
        "# #R*0.299 + G*0.587 + B*0.114\n",
        "# a = np.array([0.299, 0.587, 0.114])\n",
        "# a.dot(np.array(norm_mean))\n",
        "# a.dot(np.array(norm_std))"
      ],
      "execution_count": 19,
      "outputs": []
    },
    {
      "cell_type": "code",
      "metadata": {
        "id": "0B_59mX-7F0E"
      },
      "source": [
        "norm_mean = [0.143] #0.458971\n",
        "norm_std = [0.144] #0.225609\n",
        "\n",
        "# norm_mean = [0.143, 0.143, 0.143] \n",
        "# norm_std = [0.144, 0.144, 0.144] \n",
        "\n",
        "RandomErasing = transforms.RandomErasing(scale=(0.02, 0.08), ratio = (0.5, 2), p = 0.8)\n",
        "\n",
        "def randomErase(image, **kwargs):\n",
        "    return RandomErasing(image)\n",
        "\n",
        "def sample_normalize(image, **kwargs):\n",
        "    image = image/255\n",
        "    channel = image.shape[2]\n",
        "    mean, std = image.reshape((-1, channel)).mean(axis = 0), image.reshape((-1, channel)).std(axis = 0)\n",
        "    return (image-mean)/(std + 1e-3)\n",
        "\n",
        "\n",
        "# rotation range of 20 degrees, horizontal/vertical translation up to 20%, zoom up to 20% and a horizontal flip\n",
        "# transform_train = Compose([\n",
        "#     ShiftScaleRotate(shift_limit = 0.2, scale_limit = 0.2, rotate_limit=20, p = 0.8),\n",
        "#     HorizontalFlip(p = 0.5),\n",
        "#     RandomBrightnessContrast(p = 0.8), \n",
        "#     Normalize(mean=norm_mean, std = norm_std, p = 1),                                    \n",
        "#     ToTensor(),\n",
        "#     Lambda(image = randomErase) \n",
        "    \n",
        "# ])\n",
        "\n",
        "# transform_val = Compose([                                   \n",
        "#     Normalize(mean=norm_mean, std = norm_std, p = 1),\n",
        "#     ToTensor(),\n",
        "# ])\n",
        "\n",
        "transform_train = Compose([\n",
        "    # RandomBrightnessContrast(p = 0.8),\n",
        "    RandomResizedCrop(512, 512, (0.5, 1.0), p = 0.5),\n",
        "    ShiftScaleRotate(shift_limit = 0.2, scale_limit = 0.2, rotate_limit=20, border_mode = cv2.BORDER_CONSTANT, value = 0.0, p = 0.8),\n",
        "    # HorizontalFlip(p = 0.5),\n",
        "    \n",
        "    # ShiftScaleRotate(shift_limit = 0.2, scale_limit = 0.2, rotate_limit=20, p = 0.8),\n",
        "    HorizontalFlip(p = 0.5),\n",
        "    RandomBrightnessContrast(p = 0.8, contrast_limit=(-0.3, 0.2)),                             \n",
        "    Lambda(image = sample_normalize),\n",
        "    ToTensor(),\n",
        "    Lambda(image = randomErase) \n",
        "    \n",
        "])\n",
        "\n",
        "transform_val = Compose([                                   \n",
        "    Lambda(image = sample_normalize),\n",
        "    ToTensor(),\n",
        "])\n",
        "\n",
        "transform_test = Compose([                                   \n",
        "    Lambda(image = sample_normalize),\n",
        "    ToTensor(),\n",
        "])"
      ],
      "execution_count": 20,
      "outputs": []
    },
    {
      "cell_type": "code",
      "metadata": {
        "id": "LE-OKIDiDOTk"
      },
      "source": [
        "# from torchvision.transforms import Normalize\n",
        "\n",
        "# class Unnormalize:\n",
        "#     \"\"\"Converts an image tensor that was previously Normalize'd\n",
        "#     back to an image with pixels in the range [0, 1].\"\"\"\n",
        "#     def __init__(self, mean, std):\n",
        "#         self.mean = mean\n",
        "#         self.std = std\n",
        "\n",
        "#     def __call__(self, tensor):\n",
        "#         mean = torch.as_tensor(self.mean, dtype=tensor.dtype, device=tensor.device)\n",
        "#         std = torch.as_tensor(self.std, dtype=tensor.dtype, device=tensor.device)\n",
        "#         return torch.clamp(tensor*std + mean, 0., 1.)\n",
        "\n",
        "# unnormalize_transform = Unnormalize(norm_mean, norm_std)"
      ],
      "execution_count": 21,
      "outputs": []
    },
    {
      "cell_type": "code",
      "metadata": {
        "id": "I-CEpURmHCIL"
      },
      "source": [
        "# def read_image(path, image_size = 512):\n",
        "#     img = Image.open(path)\n",
        "#     w, h = img.size\n",
        "#     long = max(w, h)\n",
        "#     w, h = int(w/long*image_size), int(h/long*image_size)\n",
        "#     img = img.resize((w, h), Image.ANTIALIAS)\n",
        "#     delta_w, delta_h = image_size - w, image_size - h\n",
        "#     padding = (delta_w//2, delta_h//2, delta_w-(delta_w//2), delta_h-(delta_h//2))\n",
        "#     return np.expand_dims(np.array(ImageOps.expand(img, padding)), axis=2)\n",
        "\n",
        "def read_image(path, image_size = 512):\n",
        "    img = Image.open(path)\n",
        "    w, h = img.size\n",
        "    long = max(w, h)\n",
        "    w, h = int(w/long*image_size), int(h/long*image_size)\n",
        "    img = img.resize((w, h), Image.ANTIALIAS)\n",
        "    delta_w, delta_h = image_size - w, image_size - h\n",
        "    padding = (delta_w//2, delta_h//2, delta_w-(delta_w//2), delta_h-(delta_h//2))\n",
        "    return np.array(ImageOps.expand(img, padding).convert(\"RGB\"))"
      ],
      "execution_count": 22,
      "outputs": []
    },
    {
      "cell_type": "code",
      "metadata": {
        "id": "yJN1OP-aCkLr"
      },
      "source": [
        "class BAATrainDataset(Dataset):\n",
        "    def __init__(self, df, file_path):\n",
        "        def preprocess_df(df):\n",
        "            #nomalize boneage distribution\n",
        "            df['zscore'] = df['boneage'].map(lambda x: (x - boneage_mean)/boneage_div )\n",
        "            #change the type of gender, change bool variable to float32\n",
        "            df['male'] = df['male'].astype('float32')\n",
        "            df['bonage'] = df['boneage'].astype('float32')\n",
        "            return df\n",
        "\n",
        "        self.df = preprocess_df(df)\n",
        "        self.file_path = file_path\n",
        "        \n",
        "    def __getitem__(self, index):\n",
        "        row = self.df.iloc[index]\n",
        "        num = int(row['id'])\n",
        "        return (transform_train(image = read_image(f\"{self.file_path}/{num//1000}/{num}.png\"))['image'], Tensor([row['male']])), row['zscore']\n",
        "    \n",
        "    def __len__(self):\n",
        "        return len(self.df)\n",
        "class BAAValDataset(Dataset):\n",
        "    def __init__(self, df, file_path):\n",
        "        def preprocess_df(df):\n",
        "            #change the type of gender, change bool variable to float32\n",
        "            df['male'] = df['male'].astype('float32')\n",
        "            df['bonage'] = df['boneage'].astype('float32')\n",
        "            return df\n",
        "        self.df = preprocess_df(df)\n",
        "        self.file_path = file_path\n",
        "        \n",
        "    def __getitem__(self, index):\n",
        "        row = self.df.iloc[index]\n",
        "        return (transform_val(image = read_image(f\"{self.file_path}/{int(row['id'])}.png\"))['image'], Tensor([row['male']])), row['boneage']\n",
        "    \n",
        "    def __len__(self):\n",
        "        return len(self.df)\n",
        "        \n",
        "class BAATestDataset(Dataset):\n",
        "    def __init__(self, df, file_path):\n",
        "        def preprocess_df(df):\n",
        "            #change the type of gender, change bool variable to float32\n",
        "            df['male'] = (df['Sex'] == 'M').astype('float32')\n",
        "            df['boneage'] = df['Ground truth bone age (months)'].astype('float32')\n",
        "            df['id'] = df['Case ID'].astype('int32')\n",
        "            return df\n",
        "        self.df = preprocess_df(df)\n",
        "        print(self.df.head())\n",
        "        self.file_path = file_path\n",
        "        \n",
        "    def __getitem__(self, index):\n",
        "        row = self.df.iloc[index]\n",
        "        return (transform_test(image = read_image(f\"{self.file_path}/{int(row['id'])}.png\"))['image'], Tensor([row['male']])), row['boneage']\n",
        "    \n",
        "    def __len__(self):\n",
        "        return len(self.df) \n",
        "\n",
        "def create_data_loader(train_df, val_df, test_df, train_root, val_root, test_root):\n",
        "    return BAATrainDataset(train_df, train_root), BAAValDataset(val_df, val_root), BAATestDataset(test_df, test_root)"
      ],
      "execution_count": 23,
      "outputs": []
    },
    {
      "cell_type": "code",
      "metadata": {
        "colab": {
          "base_uri": "https://localhost:8080/"
        },
        "id": "JY9pq74GLBum",
        "outputId": "58cb2eab-25ae-48ac-80d2-8130b068253c"
      },
      "source": [
        "!ls '/content/drive/My Drive/BAA/boneage-training-dataset/1377.png'"
      ],
      "execution_count": 24,
      "outputs": [
        {
          "output_type": "stream",
          "text": [
            "ls: cannot access '/content/drive/My Drive/BAA/boneage-training-dataset/1377.png': No such file or directory\n"
          ],
          "name": "stdout"
        }
      ]
    },
    {
      "cell_type": "code",
      "metadata": {
        "colab": {
          "base_uri": "https://localhost:8080/"
        },
        "id": "vA-p8KZcUM0M",
        "outputId": "abdb2096-7624-4d53-cf14-04dbc2fb1d6f"
      },
      "source": [
        "train_set, val_set, test_set = create_data_loader(train_df, val_df, test_df, '/content/drive/My Drive/BAA/boneage-training-dataset', '/content/drive/My Drive/BAA/boneage-validation-dataset', '/content/drive/My Drive/BAA/Test Set Images')"
      ],
      "execution_count": 25,
      "outputs": [
        {
          "output_type": "stream",
          "text": [
            "   Case ID Sex  Ground truth bone age (months)  male     boneage    id\n",
            "0     4360   M                      168.934249   1.0  168.934250  4360\n",
            "1     4361   M                      169.652678   1.0  169.652679  4361\n",
            "2     4362   M                       73.256112   1.0   73.256111  4362\n",
            "3     4363   M                      152.862669   1.0  152.862671  4363\n",
            "4     4364   M                      135.456954   1.0  135.456955  4364\n"
          ],
          "name": "stdout"
        }
      ]
    },
    {
      "cell_type": "markdown",
      "metadata": {
        "id": "ly2WDirlfo6P"
      },
      "source": [
        "### Define model"
      ]
    },
    {
      "cell_type": "code",
      "metadata": {
        "colab": {
          "base_uri": "https://localhost:8080/",
          "height": 1000,
          "referenced_widgets": [
            "18a94cf5ff0a4937903061782aa625c9",
            "c6e555a193fd44d99f24804ab49a9888",
            "cd983b0efaf74aa28c7b42c95019af0a",
            "2ed7bd88598149da80ce10eff5f84235",
            "e483c935271b436299857708610147cd",
            "8a07da75f2a4479788793fea52e78080",
            "1021840454d64ebca635a9009eb3e053",
            "7b1c07a070a54c229d7361812becb6a3"
          ]
        },
        "id": "br4AbYctLaaN",
        "outputId": "381a9b86-6c4e-48b6-f004-015a94a4082c"
      },
      "source": [
        "from pretrainedmodels import se_resnext101_32x4d, se_resnet152, xception, inceptionv4, inceptionresnetv2\n",
        "from torchvision.models import resnet34, resnet50\n",
        "\n",
        "def get_My_resnet34():\n",
        "    model = resnet34(pretrained = True)\n",
        "    output_channels = model.fc.in_features\n",
        "    model = list(model.children())[:-2]\n",
        "    return model, output_channels\n",
        "\n",
        "def get_My_resnet50():\n",
        "    model = resnet50(pretrained = True)\n",
        "    output_channels = model.fc.in_features\n",
        "    model = list(model.children())[:-2]\n",
        "    return model, output_channels\n",
        "\n",
        "def get_My_se_resnet152():\n",
        "    model = se_resnet152(pretrained = None)\n",
        "    output_channels = model.last_linear.in_features\n",
        "    model = nn.Sequential(*list(model.children())[:-2])\n",
        "    return model, output_channels\n",
        "\n",
        "def get_My_se_resnext101_32x4d():\n",
        "    model = se_resnext101_32x4d()\n",
        "    output_channels = model.last_linear.in_features\n",
        "    model = nn.Sequential(*list(model.children())[:-2])\n",
        "    return model, output_channels\n",
        "\n",
        "def get_My_inceptionv4():\n",
        "    model = inceptionv4()\n",
        "    output_channels = model.last_linear.in_features\n",
        "    model = list(model.children())[:-2]\n",
        "    \n",
        "    model = nn.Sequential(*model)\n",
        "    return model, output_channels\n",
        "\n",
        "def get_My_inceptionresnetv2():\n",
        "    model = inceptionresnetv2()\n",
        "    output_channels = model.last_linear.in_features\n",
        "    model = list(model.children())[:-2]\n",
        "    \n",
        "    model = nn.Sequential(*model)\n",
        "    return model, output_channels\n",
        "\n",
        "# get_My_se_resnet152()\n",
        "a, b = get_My_resnet50()\n",
        "a"
      ],
      "execution_count": 26,
      "outputs": [
        {
          "output_type": "stream",
          "text": [
            "Downloading: \"https://download.pytorch.org/models/resnet50-19c8e357.pth\" to /root/.cache/torch/hub/checkpoints/resnet50-19c8e357.pth\n"
          ],
          "name": "stderr"
        },
        {
          "output_type": "display_data",
          "data": {
            "application/vnd.jupyter.widget-view+json": {
              "model_id": "18a94cf5ff0a4937903061782aa625c9",
              "version_minor": 0,
              "version_major": 2
            },
            "text/plain": [
              "HBox(children=(FloatProgress(value=0.0, max=102502400.0), HTML(value='')))"
            ]
          },
          "metadata": {
            "tags": []
          }
        },
        {
          "output_type": "stream",
          "text": [
            "\n"
          ],
          "name": "stdout"
        },
        {
          "output_type": "execute_result",
          "data": {
            "text/plain": [
              "[Conv2d(3, 64, kernel_size=(7, 7), stride=(2, 2), padding=(3, 3), bias=False),\n",
              " BatchNorm2d(64, eps=1e-05, momentum=0.1, affine=True, track_running_stats=True),\n",
              " ReLU(inplace=True),\n",
              " MaxPool2d(kernel_size=3, stride=2, padding=1, dilation=1, ceil_mode=False),\n",
              " Sequential(\n",
              "   (0): Bottleneck(\n",
              "     (conv1): Conv2d(64, 64, kernel_size=(1, 1), stride=(1, 1), bias=False)\n",
              "     (bn1): BatchNorm2d(64, eps=1e-05, momentum=0.1, affine=True, track_running_stats=True)\n",
              "     (conv2): Conv2d(64, 64, kernel_size=(3, 3), stride=(1, 1), padding=(1, 1), bias=False)\n",
              "     (bn2): BatchNorm2d(64, eps=1e-05, momentum=0.1, affine=True, track_running_stats=True)\n",
              "     (conv3): Conv2d(64, 256, kernel_size=(1, 1), stride=(1, 1), bias=False)\n",
              "     (bn3): BatchNorm2d(256, eps=1e-05, momentum=0.1, affine=True, track_running_stats=True)\n",
              "     (relu): ReLU(inplace=True)\n",
              "     (downsample): Sequential(\n",
              "       (0): Conv2d(64, 256, kernel_size=(1, 1), stride=(1, 1), bias=False)\n",
              "       (1): BatchNorm2d(256, eps=1e-05, momentum=0.1, affine=True, track_running_stats=True)\n",
              "     )\n",
              "   )\n",
              "   (1): Bottleneck(\n",
              "     (conv1): Conv2d(256, 64, kernel_size=(1, 1), stride=(1, 1), bias=False)\n",
              "     (bn1): BatchNorm2d(64, eps=1e-05, momentum=0.1, affine=True, track_running_stats=True)\n",
              "     (conv2): Conv2d(64, 64, kernel_size=(3, 3), stride=(1, 1), padding=(1, 1), bias=False)\n",
              "     (bn2): BatchNorm2d(64, eps=1e-05, momentum=0.1, affine=True, track_running_stats=True)\n",
              "     (conv3): Conv2d(64, 256, kernel_size=(1, 1), stride=(1, 1), bias=False)\n",
              "     (bn3): BatchNorm2d(256, eps=1e-05, momentum=0.1, affine=True, track_running_stats=True)\n",
              "     (relu): ReLU(inplace=True)\n",
              "   )\n",
              "   (2): Bottleneck(\n",
              "     (conv1): Conv2d(256, 64, kernel_size=(1, 1), stride=(1, 1), bias=False)\n",
              "     (bn1): BatchNorm2d(64, eps=1e-05, momentum=0.1, affine=True, track_running_stats=True)\n",
              "     (conv2): Conv2d(64, 64, kernel_size=(3, 3), stride=(1, 1), padding=(1, 1), bias=False)\n",
              "     (bn2): BatchNorm2d(64, eps=1e-05, momentum=0.1, affine=True, track_running_stats=True)\n",
              "     (conv3): Conv2d(64, 256, kernel_size=(1, 1), stride=(1, 1), bias=False)\n",
              "     (bn3): BatchNorm2d(256, eps=1e-05, momentum=0.1, affine=True, track_running_stats=True)\n",
              "     (relu): ReLU(inplace=True)\n",
              "   )\n",
              " ),\n",
              " Sequential(\n",
              "   (0): Bottleneck(\n",
              "     (conv1): Conv2d(256, 128, kernel_size=(1, 1), stride=(1, 1), bias=False)\n",
              "     (bn1): BatchNorm2d(128, eps=1e-05, momentum=0.1, affine=True, track_running_stats=True)\n",
              "     (conv2): Conv2d(128, 128, kernel_size=(3, 3), stride=(2, 2), padding=(1, 1), bias=False)\n",
              "     (bn2): BatchNorm2d(128, eps=1e-05, momentum=0.1, affine=True, track_running_stats=True)\n",
              "     (conv3): Conv2d(128, 512, kernel_size=(1, 1), stride=(1, 1), bias=False)\n",
              "     (bn3): BatchNorm2d(512, eps=1e-05, momentum=0.1, affine=True, track_running_stats=True)\n",
              "     (relu): ReLU(inplace=True)\n",
              "     (downsample): Sequential(\n",
              "       (0): Conv2d(256, 512, kernel_size=(1, 1), stride=(2, 2), bias=False)\n",
              "       (1): BatchNorm2d(512, eps=1e-05, momentum=0.1, affine=True, track_running_stats=True)\n",
              "     )\n",
              "   )\n",
              "   (1): Bottleneck(\n",
              "     (conv1): Conv2d(512, 128, kernel_size=(1, 1), stride=(1, 1), bias=False)\n",
              "     (bn1): BatchNorm2d(128, eps=1e-05, momentum=0.1, affine=True, track_running_stats=True)\n",
              "     (conv2): Conv2d(128, 128, kernel_size=(3, 3), stride=(1, 1), padding=(1, 1), bias=False)\n",
              "     (bn2): BatchNorm2d(128, eps=1e-05, momentum=0.1, affine=True, track_running_stats=True)\n",
              "     (conv3): Conv2d(128, 512, kernel_size=(1, 1), stride=(1, 1), bias=False)\n",
              "     (bn3): BatchNorm2d(512, eps=1e-05, momentum=0.1, affine=True, track_running_stats=True)\n",
              "     (relu): ReLU(inplace=True)\n",
              "   )\n",
              "   (2): Bottleneck(\n",
              "     (conv1): Conv2d(512, 128, kernel_size=(1, 1), stride=(1, 1), bias=False)\n",
              "     (bn1): BatchNorm2d(128, eps=1e-05, momentum=0.1, affine=True, track_running_stats=True)\n",
              "     (conv2): Conv2d(128, 128, kernel_size=(3, 3), stride=(1, 1), padding=(1, 1), bias=False)\n",
              "     (bn2): BatchNorm2d(128, eps=1e-05, momentum=0.1, affine=True, track_running_stats=True)\n",
              "     (conv3): Conv2d(128, 512, kernel_size=(1, 1), stride=(1, 1), bias=False)\n",
              "     (bn3): BatchNorm2d(512, eps=1e-05, momentum=0.1, affine=True, track_running_stats=True)\n",
              "     (relu): ReLU(inplace=True)\n",
              "   )\n",
              "   (3): Bottleneck(\n",
              "     (conv1): Conv2d(512, 128, kernel_size=(1, 1), stride=(1, 1), bias=False)\n",
              "     (bn1): BatchNorm2d(128, eps=1e-05, momentum=0.1, affine=True, track_running_stats=True)\n",
              "     (conv2): Conv2d(128, 128, kernel_size=(3, 3), stride=(1, 1), padding=(1, 1), bias=False)\n",
              "     (bn2): BatchNorm2d(128, eps=1e-05, momentum=0.1, affine=True, track_running_stats=True)\n",
              "     (conv3): Conv2d(128, 512, kernel_size=(1, 1), stride=(1, 1), bias=False)\n",
              "     (bn3): BatchNorm2d(512, eps=1e-05, momentum=0.1, affine=True, track_running_stats=True)\n",
              "     (relu): ReLU(inplace=True)\n",
              "   )\n",
              " ),\n",
              " Sequential(\n",
              "   (0): Bottleneck(\n",
              "     (conv1): Conv2d(512, 256, kernel_size=(1, 1), stride=(1, 1), bias=False)\n",
              "     (bn1): BatchNorm2d(256, eps=1e-05, momentum=0.1, affine=True, track_running_stats=True)\n",
              "     (conv2): Conv2d(256, 256, kernel_size=(3, 3), stride=(2, 2), padding=(1, 1), bias=False)\n",
              "     (bn2): BatchNorm2d(256, eps=1e-05, momentum=0.1, affine=True, track_running_stats=True)\n",
              "     (conv3): Conv2d(256, 1024, kernel_size=(1, 1), stride=(1, 1), bias=False)\n",
              "     (bn3): BatchNorm2d(1024, eps=1e-05, momentum=0.1, affine=True, track_running_stats=True)\n",
              "     (relu): ReLU(inplace=True)\n",
              "     (downsample): Sequential(\n",
              "       (0): Conv2d(512, 1024, kernel_size=(1, 1), stride=(2, 2), bias=False)\n",
              "       (1): BatchNorm2d(1024, eps=1e-05, momentum=0.1, affine=True, track_running_stats=True)\n",
              "     )\n",
              "   )\n",
              "   (1): Bottleneck(\n",
              "     (conv1): Conv2d(1024, 256, kernel_size=(1, 1), stride=(1, 1), bias=False)\n",
              "     (bn1): BatchNorm2d(256, eps=1e-05, momentum=0.1, affine=True, track_running_stats=True)\n",
              "     (conv2): Conv2d(256, 256, kernel_size=(3, 3), stride=(1, 1), padding=(1, 1), bias=False)\n",
              "     (bn2): BatchNorm2d(256, eps=1e-05, momentum=0.1, affine=True, track_running_stats=True)\n",
              "     (conv3): Conv2d(256, 1024, kernel_size=(1, 1), stride=(1, 1), bias=False)\n",
              "     (bn3): BatchNorm2d(1024, eps=1e-05, momentum=0.1, affine=True, track_running_stats=True)\n",
              "     (relu): ReLU(inplace=True)\n",
              "   )\n",
              "   (2): Bottleneck(\n",
              "     (conv1): Conv2d(1024, 256, kernel_size=(1, 1), stride=(1, 1), bias=False)\n",
              "     (bn1): BatchNorm2d(256, eps=1e-05, momentum=0.1, affine=True, track_running_stats=True)\n",
              "     (conv2): Conv2d(256, 256, kernel_size=(3, 3), stride=(1, 1), padding=(1, 1), bias=False)\n",
              "     (bn2): BatchNorm2d(256, eps=1e-05, momentum=0.1, affine=True, track_running_stats=True)\n",
              "     (conv3): Conv2d(256, 1024, kernel_size=(1, 1), stride=(1, 1), bias=False)\n",
              "     (bn3): BatchNorm2d(1024, eps=1e-05, momentum=0.1, affine=True, track_running_stats=True)\n",
              "     (relu): ReLU(inplace=True)\n",
              "   )\n",
              "   (3): Bottleneck(\n",
              "     (conv1): Conv2d(1024, 256, kernel_size=(1, 1), stride=(1, 1), bias=False)\n",
              "     (bn1): BatchNorm2d(256, eps=1e-05, momentum=0.1, affine=True, track_running_stats=True)\n",
              "     (conv2): Conv2d(256, 256, kernel_size=(3, 3), stride=(1, 1), padding=(1, 1), bias=False)\n",
              "     (bn2): BatchNorm2d(256, eps=1e-05, momentum=0.1, affine=True, track_running_stats=True)\n",
              "     (conv3): Conv2d(256, 1024, kernel_size=(1, 1), stride=(1, 1), bias=False)\n",
              "     (bn3): BatchNorm2d(1024, eps=1e-05, momentum=0.1, affine=True, track_running_stats=True)\n",
              "     (relu): ReLU(inplace=True)\n",
              "   )\n",
              "   (4): Bottleneck(\n",
              "     (conv1): Conv2d(1024, 256, kernel_size=(1, 1), stride=(1, 1), bias=False)\n",
              "     (bn1): BatchNorm2d(256, eps=1e-05, momentum=0.1, affine=True, track_running_stats=True)\n",
              "     (conv2): Conv2d(256, 256, kernel_size=(3, 3), stride=(1, 1), padding=(1, 1), bias=False)\n",
              "     (bn2): BatchNorm2d(256, eps=1e-05, momentum=0.1, affine=True, track_running_stats=True)\n",
              "     (conv3): Conv2d(256, 1024, kernel_size=(1, 1), stride=(1, 1), bias=False)\n",
              "     (bn3): BatchNorm2d(1024, eps=1e-05, momentum=0.1, affine=True, track_running_stats=True)\n",
              "     (relu): ReLU(inplace=True)\n",
              "   )\n",
              "   (5): Bottleneck(\n",
              "     (conv1): Conv2d(1024, 256, kernel_size=(1, 1), stride=(1, 1), bias=False)\n",
              "     (bn1): BatchNorm2d(256, eps=1e-05, momentum=0.1, affine=True, track_running_stats=True)\n",
              "     (conv2): Conv2d(256, 256, kernel_size=(3, 3), stride=(1, 1), padding=(1, 1), bias=False)\n",
              "     (bn2): BatchNorm2d(256, eps=1e-05, momentum=0.1, affine=True, track_running_stats=True)\n",
              "     (conv3): Conv2d(256, 1024, kernel_size=(1, 1), stride=(1, 1), bias=False)\n",
              "     (bn3): BatchNorm2d(1024, eps=1e-05, momentum=0.1, affine=True, track_running_stats=True)\n",
              "     (relu): ReLU(inplace=True)\n",
              "   )\n",
              " ),\n",
              " Sequential(\n",
              "   (0): Bottleneck(\n",
              "     (conv1): Conv2d(1024, 512, kernel_size=(1, 1), stride=(1, 1), bias=False)\n",
              "     (bn1): BatchNorm2d(512, eps=1e-05, momentum=0.1, affine=True, track_running_stats=True)\n",
              "     (conv2): Conv2d(512, 512, kernel_size=(3, 3), stride=(2, 2), padding=(1, 1), bias=False)\n",
              "     (bn2): BatchNorm2d(512, eps=1e-05, momentum=0.1, affine=True, track_running_stats=True)\n",
              "     (conv3): Conv2d(512, 2048, kernel_size=(1, 1), stride=(1, 1), bias=False)\n",
              "     (bn3): BatchNorm2d(2048, eps=1e-05, momentum=0.1, affine=True, track_running_stats=True)\n",
              "     (relu): ReLU(inplace=True)\n",
              "     (downsample): Sequential(\n",
              "       (0): Conv2d(1024, 2048, kernel_size=(1, 1), stride=(2, 2), bias=False)\n",
              "       (1): BatchNorm2d(2048, eps=1e-05, momentum=0.1, affine=True, track_running_stats=True)\n",
              "     )\n",
              "   )\n",
              "   (1): Bottleneck(\n",
              "     (conv1): Conv2d(2048, 512, kernel_size=(1, 1), stride=(1, 1), bias=False)\n",
              "     (bn1): BatchNorm2d(512, eps=1e-05, momentum=0.1, affine=True, track_running_stats=True)\n",
              "     (conv2): Conv2d(512, 512, kernel_size=(3, 3), stride=(1, 1), padding=(1, 1), bias=False)\n",
              "     (bn2): BatchNorm2d(512, eps=1e-05, momentum=0.1, affine=True, track_running_stats=True)\n",
              "     (conv3): Conv2d(512, 2048, kernel_size=(1, 1), stride=(1, 1), bias=False)\n",
              "     (bn3): BatchNorm2d(2048, eps=1e-05, momentum=0.1, affine=True, track_running_stats=True)\n",
              "     (relu): ReLU(inplace=True)\n",
              "   )\n",
              "   (2): Bottleneck(\n",
              "     (conv1): Conv2d(2048, 512, kernel_size=(1, 1), stride=(1, 1), bias=False)\n",
              "     (bn1): BatchNorm2d(512, eps=1e-05, momentum=0.1, affine=True, track_running_stats=True)\n",
              "     (conv2): Conv2d(512, 512, kernel_size=(3, 3), stride=(1, 1), padding=(1, 1), bias=False)\n",
              "     (bn2): BatchNorm2d(512, eps=1e-05, momentum=0.1, affine=True, track_running_stats=True)\n",
              "     (conv3): Conv2d(512, 2048, kernel_size=(1, 1), stride=(1, 1), bias=False)\n",
              "     (bn3): BatchNorm2d(2048, eps=1e-05, momentum=0.1, affine=True, track_running_stats=True)\n",
              "     (relu): ReLU(inplace=True)\n",
              "   )\n",
              " )]"
            ]
          },
          "metadata": {
            "tags": []
          },
          "execution_count": 26
        }
      ]
    },
    {
      "cell_type": "code",
      "metadata": {
        "id": "kIGDLj8Rg86W"
      },
      "source": [
        "class Pooling_attention(nn.Module):\n",
        "  def __init__(self, input_channels, kernel_size = 1):\n",
        "    super(Pooling_attention, self).__init__()\n",
        "    self.pooling_attention = nn.Sequential(\n",
        "        nn.Conv2d(input_channels, 1, kernel_size = kernel_size, padding = kernel_size//2),\n",
        "        nn.ReLU()\n",
        "    )\n",
        "  def forward(self, x):\n",
        "    return self.pooling_attention(x) \n",
        "\n",
        "\n",
        "# class Part_Relation(nn.Module):\n",
        "#   def __init__(self, input_channels, reduction = 16):\n",
        "#     super(Part_Relation, self).__init__()\n",
        "#     self.pooling_attention_0 = nn.Sequential(\n",
        "#       nn.Conv2d(input_channels, input_channels//reduction, kernel_size = 1),\n",
        "#       nn.BatchNorm2d(input_channels//reduction),\n",
        "#       nn.ReLU()\n",
        "#     )\n",
        "#     self.pooling_attention_1 = Pooling_attention(input_channels//reduction, 1)\n",
        "#     self.pooling_attention_3 = Pooling_attention(input_channels//reduction, 3)\n",
        "#     self.pooling_attention_5 = Pooling_attention(input_channels//reduction, 5)\n",
        "\n",
        "#     self.last_conv =  nn.Sequential(\n",
        "#         nn.Conv2d(3, 1, kernel_size = 1),\n",
        "#         nn.Sigmoid()\n",
        "#     )\n",
        "\n",
        "\n",
        "    # self.se = SEModule(input_channels, 16)\n",
        "#   def forward(self, x):\n",
        "#     input = x\n",
        "#     x = self.pooling_attention_0(x)\n",
        "#     x = torch.cat([self.pooling_attention_1(x), self.pooling_attention_3(x), self.pooling_attention_5(x)], dim = 1)\n",
        "#     x = self.last_conv(x)\n",
        "#     return input + input*x\n",
        "\n",
        "class Part_Relation(nn.Module):\n",
        "  def __init__(self, input_channels, reduction = [16], level = 1):\n",
        "    super(Part_Relation, self).__init__()\n",
        "    \n",
        "    modules = []\n",
        "    for i in range(level):\n",
        "        output_channels = input_channels//reduction[i]\n",
        "        modules.append(nn.Conv2d(input_channels, output_channels, kernel_size = 1))\n",
        "        modules.append(nn.BatchNorm2d(output_channels))\n",
        "        modules.append(nn.ReLU())\n",
        "        input_channels = output_channels\n",
        "\n",
        "    self.pooling_attention_0 = nn.Sequential(*modules)\n",
        "    self.pooling_attention_1 = Pooling_attention(input_channels, 1)\n",
        "    self.pooling_attention_3 = Pooling_attention(input_channels, 3)\n",
        "    self.pooling_attention_5 = Pooling_attention(input_channels, 5)\n",
        "\n",
        "    self.last_conv =  nn.Sequential(\n",
        "        nn.Conv2d(3, 1, kernel_size = 1),\n",
        "        nn.Sigmoid()\n",
        "    )\n",
        "  def forward(self, x):\n",
        "    input = x\n",
        "    x = self.pooling_attention_0(x)\n",
        "    x = torch.cat([self.pooling_attention_1(x), self.pooling_attention_3(x), self.pooling_attention_5(x)], dim = 1)\n",
        "    x = self.last_conv(x)\n",
        "    return input - input*x"
      ],
      "execution_count": 27,
      "outputs": []
    },
    {
      "cell_type": "code",
      "metadata": {
        "id": "nupnBC96r54k"
      },
      "source": [
        "# class BAA_New(nn.Module):\n",
        "#     def __init__(self, gender_encode_length, backbone, out_channels):\n",
        "#         super(BAA_New, self).__init__()\n",
        "#         self.backbone0 = nn.Sequential(*backbone[0:5])\n",
        "#         self.out_channels = out_channels\n",
        "#         self.backbone1 = backbone[5]\n",
        "#         self.backbone2 = backbone[6]\n",
        "#         self.backbone3 = backbone[7]\n",
        "\n",
        "#         #3.788\n",
        "#         # self.part_relation0 = Part_Relation(256)\n",
        "#         # self.part_relation1 = Part_Relation(512, 32)\n",
        "#         # self.part_relation2 = Part_Relation(1024, 8, 2)\n",
        "#         # self.part_relation3 = Part_Relation(2048, 8, 2)\n",
        "\n",
        "#         self.part_relation0 = Part_Relation(256)\n",
        "#         self.part_relation1 = Part_Relation(512, [4, 8], 2)\n",
        "#         self.part_relation2 = Part_Relation(1024, [8, 8], 2)\n",
        "#         self.part_relation3 = Part_Relation(2048, [8, 16], 2)\n",
        "\n",
        "#         self.gender_encoder = nn.Linear(1, gender_encode_length)\n",
        "#         self.gender_bn = nn.BatchNorm1d(gender_encode_length)\n",
        "\n",
        "#         self.fc0 = nn.Linear(out_channels + gender_encode_length, 1024)\n",
        "#         self.bn0 = nn.BatchNorm1d(1024)\n",
        "\n",
        "#         self.fc1 = nn.Linear(1024, 512)\n",
        "#         self.bn1 = nn.BatchNorm1d(512)\n",
        "\n",
        "#         self.output = nn.Linear(512, 1)\n",
        "\n",
        "#     def forward(self, image, gender):\n",
        "#         x = self.part_relation0(self.backbone0(image))\n",
        "#         # x  = self.backbone0(image)\n",
        "#         x = self.part_relation1(self.backbone1(x))\n",
        "#         # x = self.backbone1(x)\n",
        "#         x = self.part_relation2(self.backbone2(x))\n",
        "#         # x = self.backbone2(x)\n",
        "#         x = self.part_relation3(self.backbone3(x))\n",
        "#         # x = self.backbone3(x)\n",
        "\n",
        "#         x = F.adaptive_avg_pool2d(x, 1)\n",
        "#         x = torch.squeeze(x)\n",
        "#         x.view(-1, self.out_channels)\n",
        "\n",
        "#         gender_encode = self.gender_bn(self.gender_encoder(gender))\n",
        "#         gender_encode = F.relu(gender_encode)\n",
        "\n",
        "#         x = torch.cat([x,  gender_encode], dim = 1)\n",
        "\n",
        "#         x = F.relu(self.bn0(self.fc0(x)))\n",
        "\n",
        "#         x = F.relu(self.bn1(self.fc1(x)))\n",
        "\n",
        "#         return self.output(x)\n",
        "\n",
        "class BAA_New(nn.Module):\n",
        "    def __init__(self, gender_encode_length, backbone, out_channels):\n",
        "        super(BAA_New, self).__init__()\n",
        "        self.backbone0 = nn.Sequential(*backbone[0:5])\n",
        "        self.part_relation0 = Part_Relation(256)\n",
        "        self.out_channels = out_channels\n",
        "        self.backbone1 = backbone[5]\n",
        "        self.part_relation1 = Part_Relation(512, [4, 8], 2)\n",
        "        self.backbone2 = backbone[6]\n",
        "        self.part_relation2 = Part_Relation(1024, [8, 8], 2)\n",
        "        self.backbone3 = backbone[7]\n",
        "        self.part_relation3 = Part_Relation(2048, [8, 16], 2)\n",
        "\n",
        "        #3.788\n",
        "        # self.part_relation0 = Part_Relation(256)\n",
        "        # self.part_relation1 = Part_Relation(512, 32)\n",
        "        # self.part_relation2 = Part_Relation(1024, 8, 2)\n",
        "        # self.part_relation3 = Part_Relation(2048, 8, 2)\n",
        "\n",
        "        \n",
        "        \n",
        "        \n",
        "        \n",
        "\n",
        "        self.gender_encoder = nn.Linear(1, gender_encode_length)\n",
        "        self.gender_bn = nn.BatchNorm1d(gender_encode_length)\n",
        "\n",
        "        self.fc0 = nn.Linear(out_channels + gender_encode_length, 1024)\n",
        "        self.bn0 = nn.BatchNorm1d(1024)\n",
        "\n",
        "        self.fc1 = nn.Linear(1024, 512)\n",
        "        self.bn1 = nn.BatchNorm1d(512)\n",
        "\n",
        "        self.output = nn.Linear(512, 1)\n",
        "\n",
        "    def forward(self, image, gender):\n",
        "        x = self.part_relation0(self.backbone0(image))\n",
        "        # x  = self.backbone0(image)\n",
        "        x = self.part_relation1(self.backbone1(x))\n",
        "        # x = self.backbone1(x)\n",
        "        x = self.part_relation2(self.backbone2(x))\n",
        "        # x = self.backbone2(x)\n",
        "        x = self.part_relation3(self.backbone3(x))\n",
        "        # x = self.backbone3(x)\n",
        "        feature_map = x\n",
        "        x = F.adaptive_avg_pool2d(x, 1)\n",
        "        x = torch.squeeze(x)\n",
        "        x = x.view(-1, self.out_channels)\n",
        "\n",
        "        gender_encode = self.gender_bn(self.gender_encoder(gender))\n",
        "        gender_encode = F.relu(gender_encode)\n",
        "\n",
        "        x = torch.cat([x,  gender_encode], dim = 1)\n",
        "\n",
        "        x = F.relu(self.bn0(self.fc0(x)))\n",
        "\n",
        "        x = F.relu(self.bn1(self.fc1(x)))\n",
        "\n",
        "        x = self.output(x)\n",
        "\n",
        "        return feature_map, gender_encode"
      ],
      "execution_count": 28,
      "outputs": []
    },
    {
      "cell_type": "code",
      "metadata": {
        "colab": {
          "base_uri": "https://localhost:8080/"
        },
        "id": "8CHdKWC57YQV",
        "outputId": "7cdce5eb-e685-4335-f054-53c8b731e072"
      },
      "source": [
        "model = BAA_New(32, *get_My_resnet50())\n",
        "model.load_state_dict(torch.load('/content/drive/MyDrive/BAA/MRSA_50++_4.03/best_MRSA_50++_4.03.bin'))"
      ],
      "execution_count": 29,
      "outputs": [
        {
          "output_type": "execute_result",
          "data": {
            "text/plain": [
              "<All keys matched successfully>"
            ]
          },
          "metadata": {
            "tags": []
          },
          "execution_count": 29
        }
      ]
    },
    {
      "cell_type": "code",
      "metadata": {
        "colab": {
          "base_uri": "https://localhost:8080/"
        },
        "id": "-do7TWGt2Dr5",
        "outputId": "c9f86cc4-56ce-4971-830f-09393b992275"
      },
      "source": [
        "class Self_Attention_Adj(nn.Module):\n",
        "    def __init__(self, feature_size, attention_size):\n",
        "        super(Self_Attention_Adj, self).__init__()\n",
        "        self.queue = nn.Parameter(torch.empty(feature_size, attention_size))\n",
        "        nn.init.kaiming_uniform_(self.queue)\n",
        "\n",
        "        self.key = nn.Parameter(torch.empty(feature_size, attention_size))\n",
        "        nn.init.kaiming_uniform_(self.key)\n",
        "\n",
        "        self.leak_relu = nn.LeakyReLU()\n",
        "\n",
        "        self.softmax = nn.Softmax(dim = 1)\n",
        "\n",
        "    def forward(self, x):\n",
        "        x = x.transpose(1, 2)\n",
        "        Q = self.leak_relu(torch.matmul(x, self.queue))\n",
        "        K = self.leak_relu(torch.matmul(x, self.key))\n",
        "\n",
        "        return self.softmax(torch.matmul(Q, K.transpose(1, 2)))\n",
        "\n",
        "\n",
        "\n",
        "class Graph_GCN(nn.Module):\n",
        "    def __init__(self, node_size, feature_size, output_size):\n",
        "        super(Graph_GCN, self).__init__()\n",
        "        self.node_size = node_size\n",
        "        self.feature_size = feature_size\n",
        "        self.output_size = output_size\n",
        "        self.weight = nn.Parameter(torch.empty(feature_size, output_size))\n",
        "        nn.init.kaiming_uniform_(self.weight)\n",
        "        \n",
        "    def forward(self, x, A):\n",
        "        x = torch.matmul(A, x.transpose(1, 2))\n",
        "        return (torch.matmul(x, self.weight)).transpose(1, 2)\n",
        "\n",
        "# class Graph_BAA(nn.Module):\n",
        "#     def __init__(self, image_backbone, k = 20):\n",
        "#         self.image_backbone = image_backbone\n",
        "#         self.gconv = Graph_GCN(16*16, 2048 + 1, 1024)\n",
        "#         self.fc = nn.Linear(1024, 1)\n",
        "#         # self.top_k = k\n",
        "\n",
        "#     def forward(self, image, gender):\n",
        "#         #input image to backbone, 16*16*2048\n",
        "#         feature_map = self.image_backbone(iamge).view(-1,16*16,2048)\n",
        "#         #calculate the score the select top 20 points from 16*16\n",
        "#         # using an parameter free spatial attention to get a score\n",
        "#         score = F.adaptive_avg_pool1d(feature_map)\n",
        "#         node_feature = feature_map[:,torch.argsort(score, dim = 1)[: self.top_k],:]\n",
        "\n",
        "#         #convert gender to a node, 1x1->1x2048, padding zeros\n",
        "#         gender = gender.expand(-1, 2048).view(-1, 1, 2048)\n",
        "#         #concatenate the image and gender node\n",
        "#         node_feature = torch.concat([node_feature, gender], dim = 1)\n",
        "#         x = F.adaptive_avg_pool1d(self.gconv(node_feature), 1)\n",
        "\n",
        "#         return self.fc(x)\n",
        "\n",
        "class Graph_BAA(nn.Module):\n",
        "    def __init__(self, backbone):\n",
        "        super(Graph_BAA, self).__init__()\n",
        "        self.backbone = backbone\n",
        "        #freeze image backbone\n",
        "        for param in self.backbone.parameters():\n",
        "            param.requires_grad = False\n",
        "\n",
        "        self.adj_learning = Self_Attention_Adj(2048, 256)\n",
        "        self.gconv = Graph_GCN(16*16, 2048, 1024)\n",
        "\n",
        "        self.fc0 = nn.Linear(1024 + 32, 1024)\n",
        "        self.bn0 = nn.BatchNorm1d(1024)\n",
        "\n",
        "        # self.fc1 = nn.Linear(1024, 512)\n",
        "        # self.bn1 = nn.BatchNorm1d(512)\n",
        "\n",
        "        self.output = nn.Linear(1024, 1)\n",
        "\n",
        "    def forward(self, image, gender):\n",
        "        #input image to backbone, 16*16*2048\n",
        "        feature_map, gender = self.backbone(image, gender)\n",
        "        node_feature = feature_map.view(-1, 2048, 16*16)\n",
        "        A = self.adj_learning(node_feature)\n",
        "        x = F.leaky_relu(self.gconv(node_feature, A))\n",
        "        x = torch.squeeze(F.adaptive_avg_pool1d(x, 1))\n",
        "        x = torch.cat([x, gender], dim = 1)\n",
        "\n",
        "        x = F.relu(self.bn0(self.fc0(x)))\n",
        "        # x = F.relu(self.bn1(self.fc1(x)))\n",
        "\n",
        "        return self.output(x)\n",
        "\n",
        "    def fine_tune(self, need_fine_tune = True):\n",
        "        self.train(need_fine_tune)\n",
        "        self.backbone.eval()\n",
        "\n",
        "\n",
        "\n",
        "\n",
        "Graph_BAA(model)"
      ],
      "execution_count": 30,
      "outputs": [
        {
          "output_type": "execute_result",
          "data": {
            "text/plain": [
              "Graph_BAA(\n",
              "  (backbone): BAA_New(\n",
              "    (backbone0): Sequential(\n",
              "      (0): Conv2d(3, 64, kernel_size=(7, 7), stride=(2, 2), padding=(3, 3), bias=False)\n",
              "      (1): BatchNorm2d(64, eps=1e-05, momentum=0.1, affine=True, track_running_stats=True)\n",
              "      (2): ReLU(inplace=True)\n",
              "      (3): MaxPool2d(kernel_size=3, stride=2, padding=1, dilation=1, ceil_mode=False)\n",
              "      (4): Sequential(\n",
              "        (0): Bottleneck(\n",
              "          (conv1): Conv2d(64, 64, kernel_size=(1, 1), stride=(1, 1), bias=False)\n",
              "          (bn1): BatchNorm2d(64, eps=1e-05, momentum=0.1, affine=True, track_running_stats=True)\n",
              "          (conv2): Conv2d(64, 64, kernel_size=(3, 3), stride=(1, 1), padding=(1, 1), bias=False)\n",
              "          (bn2): BatchNorm2d(64, eps=1e-05, momentum=0.1, affine=True, track_running_stats=True)\n",
              "          (conv3): Conv2d(64, 256, kernel_size=(1, 1), stride=(1, 1), bias=False)\n",
              "          (bn3): BatchNorm2d(256, eps=1e-05, momentum=0.1, affine=True, track_running_stats=True)\n",
              "          (relu): ReLU(inplace=True)\n",
              "          (downsample): Sequential(\n",
              "            (0): Conv2d(64, 256, kernel_size=(1, 1), stride=(1, 1), bias=False)\n",
              "            (1): BatchNorm2d(256, eps=1e-05, momentum=0.1, affine=True, track_running_stats=True)\n",
              "          )\n",
              "        )\n",
              "        (1): Bottleneck(\n",
              "          (conv1): Conv2d(256, 64, kernel_size=(1, 1), stride=(1, 1), bias=False)\n",
              "          (bn1): BatchNorm2d(64, eps=1e-05, momentum=0.1, affine=True, track_running_stats=True)\n",
              "          (conv2): Conv2d(64, 64, kernel_size=(3, 3), stride=(1, 1), padding=(1, 1), bias=False)\n",
              "          (bn2): BatchNorm2d(64, eps=1e-05, momentum=0.1, affine=True, track_running_stats=True)\n",
              "          (conv3): Conv2d(64, 256, kernel_size=(1, 1), stride=(1, 1), bias=False)\n",
              "          (bn3): BatchNorm2d(256, eps=1e-05, momentum=0.1, affine=True, track_running_stats=True)\n",
              "          (relu): ReLU(inplace=True)\n",
              "        )\n",
              "        (2): Bottleneck(\n",
              "          (conv1): Conv2d(256, 64, kernel_size=(1, 1), stride=(1, 1), bias=False)\n",
              "          (bn1): BatchNorm2d(64, eps=1e-05, momentum=0.1, affine=True, track_running_stats=True)\n",
              "          (conv2): Conv2d(64, 64, kernel_size=(3, 3), stride=(1, 1), padding=(1, 1), bias=False)\n",
              "          (bn2): BatchNorm2d(64, eps=1e-05, momentum=0.1, affine=True, track_running_stats=True)\n",
              "          (conv3): Conv2d(64, 256, kernel_size=(1, 1), stride=(1, 1), bias=False)\n",
              "          (bn3): BatchNorm2d(256, eps=1e-05, momentum=0.1, affine=True, track_running_stats=True)\n",
              "          (relu): ReLU(inplace=True)\n",
              "        )\n",
              "      )\n",
              "    )\n",
              "    (part_relation0): Part_Relation(\n",
              "      (pooling_attention_0): Sequential(\n",
              "        (0): Conv2d(256, 16, kernel_size=(1, 1), stride=(1, 1))\n",
              "        (1): BatchNorm2d(16, eps=1e-05, momentum=0.1, affine=True, track_running_stats=True)\n",
              "        (2): ReLU()\n",
              "      )\n",
              "      (pooling_attention_1): Pooling_attention(\n",
              "        (pooling_attention): Sequential(\n",
              "          (0): Conv2d(16, 1, kernel_size=(1, 1), stride=(1, 1))\n",
              "          (1): ReLU()\n",
              "        )\n",
              "      )\n",
              "      (pooling_attention_3): Pooling_attention(\n",
              "        (pooling_attention): Sequential(\n",
              "          (0): Conv2d(16, 1, kernel_size=(3, 3), stride=(1, 1), padding=(1, 1))\n",
              "          (1): ReLU()\n",
              "        )\n",
              "      )\n",
              "      (pooling_attention_5): Pooling_attention(\n",
              "        (pooling_attention): Sequential(\n",
              "          (0): Conv2d(16, 1, kernel_size=(5, 5), stride=(1, 1), padding=(2, 2))\n",
              "          (1): ReLU()\n",
              "        )\n",
              "      )\n",
              "      (last_conv): Sequential(\n",
              "        (0): Conv2d(3, 1, kernel_size=(1, 1), stride=(1, 1))\n",
              "        (1): Sigmoid()\n",
              "      )\n",
              "    )\n",
              "    (backbone1): Sequential(\n",
              "      (0): Bottleneck(\n",
              "        (conv1): Conv2d(256, 128, kernel_size=(1, 1), stride=(1, 1), bias=False)\n",
              "        (bn1): BatchNorm2d(128, eps=1e-05, momentum=0.1, affine=True, track_running_stats=True)\n",
              "        (conv2): Conv2d(128, 128, kernel_size=(3, 3), stride=(2, 2), padding=(1, 1), bias=False)\n",
              "        (bn2): BatchNorm2d(128, eps=1e-05, momentum=0.1, affine=True, track_running_stats=True)\n",
              "        (conv3): Conv2d(128, 512, kernel_size=(1, 1), stride=(1, 1), bias=False)\n",
              "        (bn3): BatchNorm2d(512, eps=1e-05, momentum=0.1, affine=True, track_running_stats=True)\n",
              "        (relu): ReLU(inplace=True)\n",
              "        (downsample): Sequential(\n",
              "          (0): Conv2d(256, 512, kernel_size=(1, 1), stride=(2, 2), bias=False)\n",
              "          (1): BatchNorm2d(512, eps=1e-05, momentum=0.1, affine=True, track_running_stats=True)\n",
              "        )\n",
              "      )\n",
              "      (1): Bottleneck(\n",
              "        (conv1): Conv2d(512, 128, kernel_size=(1, 1), stride=(1, 1), bias=False)\n",
              "        (bn1): BatchNorm2d(128, eps=1e-05, momentum=0.1, affine=True, track_running_stats=True)\n",
              "        (conv2): Conv2d(128, 128, kernel_size=(3, 3), stride=(1, 1), padding=(1, 1), bias=False)\n",
              "        (bn2): BatchNorm2d(128, eps=1e-05, momentum=0.1, affine=True, track_running_stats=True)\n",
              "        (conv3): Conv2d(128, 512, kernel_size=(1, 1), stride=(1, 1), bias=False)\n",
              "        (bn3): BatchNorm2d(512, eps=1e-05, momentum=0.1, affine=True, track_running_stats=True)\n",
              "        (relu): ReLU(inplace=True)\n",
              "      )\n",
              "      (2): Bottleneck(\n",
              "        (conv1): Conv2d(512, 128, kernel_size=(1, 1), stride=(1, 1), bias=False)\n",
              "        (bn1): BatchNorm2d(128, eps=1e-05, momentum=0.1, affine=True, track_running_stats=True)\n",
              "        (conv2): Conv2d(128, 128, kernel_size=(3, 3), stride=(1, 1), padding=(1, 1), bias=False)\n",
              "        (bn2): BatchNorm2d(128, eps=1e-05, momentum=0.1, affine=True, track_running_stats=True)\n",
              "        (conv3): Conv2d(128, 512, kernel_size=(1, 1), stride=(1, 1), bias=False)\n",
              "        (bn3): BatchNorm2d(512, eps=1e-05, momentum=0.1, affine=True, track_running_stats=True)\n",
              "        (relu): ReLU(inplace=True)\n",
              "      )\n",
              "      (3): Bottleneck(\n",
              "        (conv1): Conv2d(512, 128, kernel_size=(1, 1), stride=(1, 1), bias=False)\n",
              "        (bn1): BatchNorm2d(128, eps=1e-05, momentum=0.1, affine=True, track_running_stats=True)\n",
              "        (conv2): Conv2d(128, 128, kernel_size=(3, 3), stride=(1, 1), padding=(1, 1), bias=False)\n",
              "        (bn2): BatchNorm2d(128, eps=1e-05, momentum=0.1, affine=True, track_running_stats=True)\n",
              "        (conv3): Conv2d(128, 512, kernel_size=(1, 1), stride=(1, 1), bias=False)\n",
              "        (bn3): BatchNorm2d(512, eps=1e-05, momentum=0.1, affine=True, track_running_stats=True)\n",
              "        (relu): ReLU(inplace=True)\n",
              "      )\n",
              "    )\n",
              "    (part_relation1): Part_Relation(\n",
              "      (pooling_attention_0): Sequential(\n",
              "        (0): Conv2d(512, 128, kernel_size=(1, 1), stride=(1, 1))\n",
              "        (1): BatchNorm2d(128, eps=1e-05, momentum=0.1, affine=True, track_running_stats=True)\n",
              "        (2): ReLU()\n",
              "        (3): Conv2d(128, 16, kernel_size=(1, 1), stride=(1, 1))\n",
              "        (4): BatchNorm2d(16, eps=1e-05, momentum=0.1, affine=True, track_running_stats=True)\n",
              "        (5): ReLU()\n",
              "      )\n",
              "      (pooling_attention_1): Pooling_attention(\n",
              "        (pooling_attention): Sequential(\n",
              "          (0): Conv2d(16, 1, kernel_size=(1, 1), stride=(1, 1))\n",
              "          (1): ReLU()\n",
              "        )\n",
              "      )\n",
              "      (pooling_attention_3): Pooling_attention(\n",
              "        (pooling_attention): Sequential(\n",
              "          (0): Conv2d(16, 1, kernel_size=(3, 3), stride=(1, 1), padding=(1, 1))\n",
              "          (1): ReLU()\n",
              "        )\n",
              "      )\n",
              "      (pooling_attention_5): Pooling_attention(\n",
              "        (pooling_attention): Sequential(\n",
              "          (0): Conv2d(16, 1, kernel_size=(5, 5), stride=(1, 1), padding=(2, 2))\n",
              "          (1): ReLU()\n",
              "        )\n",
              "      )\n",
              "      (last_conv): Sequential(\n",
              "        (0): Conv2d(3, 1, kernel_size=(1, 1), stride=(1, 1))\n",
              "        (1): Sigmoid()\n",
              "      )\n",
              "    )\n",
              "    (backbone2): Sequential(\n",
              "      (0): Bottleneck(\n",
              "        (conv1): Conv2d(512, 256, kernel_size=(1, 1), stride=(1, 1), bias=False)\n",
              "        (bn1): BatchNorm2d(256, eps=1e-05, momentum=0.1, affine=True, track_running_stats=True)\n",
              "        (conv2): Conv2d(256, 256, kernel_size=(3, 3), stride=(2, 2), padding=(1, 1), bias=False)\n",
              "        (bn2): BatchNorm2d(256, eps=1e-05, momentum=0.1, affine=True, track_running_stats=True)\n",
              "        (conv3): Conv2d(256, 1024, kernel_size=(1, 1), stride=(1, 1), bias=False)\n",
              "        (bn3): BatchNorm2d(1024, eps=1e-05, momentum=0.1, affine=True, track_running_stats=True)\n",
              "        (relu): ReLU(inplace=True)\n",
              "        (downsample): Sequential(\n",
              "          (0): Conv2d(512, 1024, kernel_size=(1, 1), stride=(2, 2), bias=False)\n",
              "          (1): BatchNorm2d(1024, eps=1e-05, momentum=0.1, affine=True, track_running_stats=True)\n",
              "        )\n",
              "      )\n",
              "      (1): Bottleneck(\n",
              "        (conv1): Conv2d(1024, 256, kernel_size=(1, 1), stride=(1, 1), bias=False)\n",
              "        (bn1): BatchNorm2d(256, eps=1e-05, momentum=0.1, affine=True, track_running_stats=True)\n",
              "        (conv2): Conv2d(256, 256, kernel_size=(3, 3), stride=(1, 1), padding=(1, 1), bias=False)\n",
              "        (bn2): BatchNorm2d(256, eps=1e-05, momentum=0.1, affine=True, track_running_stats=True)\n",
              "        (conv3): Conv2d(256, 1024, kernel_size=(1, 1), stride=(1, 1), bias=False)\n",
              "        (bn3): BatchNorm2d(1024, eps=1e-05, momentum=0.1, affine=True, track_running_stats=True)\n",
              "        (relu): ReLU(inplace=True)\n",
              "      )\n",
              "      (2): Bottleneck(\n",
              "        (conv1): Conv2d(1024, 256, kernel_size=(1, 1), stride=(1, 1), bias=False)\n",
              "        (bn1): BatchNorm2d(256, eps=1e-05, momentum=0.1, affine=True, track_running_stats=True)\n",
              "        (conv2): Conv2d(256, 256, kernel_size=(3, 3), stride=(1, 1), padding=(1, 1), bias=False)\n",
              "        (bn2): BatchNorm2d(256, eps=1e-05, momentum=0.1, affine=True, track_running_stats=True)\n",
              "        (conv3): Conv2d(256, 1024, kernel_size=(1, 1), stride=(1, 1), bias=False)\n",
              "        (bn3): BatchNorm2d(1024, eps=1e-05, momentum=0.1, affine=True, track_running_stats=True)\n",
              "        (relu): ReLU(inplace=True)\n",
              "      )\n",
              "      (3): Bottleneck(\n",
              "        (conv1): Conv2d(1024, 256, kernel_size=(1, 1), stride=(1, 1), bias=False)\n",
              "        (bn1): BatchNorm2d(256, eps=1e-05, momentum=0.1, affine=True, track_running_stats=True)\n",
              "        (conv2): Conv2d(256, 256, kernel_size=(3, 3), stride=(1, 1), padding=(1, 1), bias=False)\n",
              "        (bn2): BatchNorm2d(256, eps=1e-05, momentum=0.1, affine=True, track_running_stats=True)\n",
              "        (conv3): Conv2d(256, 1024, kernel_size=(1, 1), stride=(1, 1), bias=False)\n",
              "        (bn3): BatchNorm2d(1024, eps=1e-05, momentum=0.1, affine=True, track_running_stats=True)\n",
              "        (relu): ReLU(inplace=True)\n",
              "      )\n",
              "      (4): Bottleneck(\n",
              "        (conv1): Conv2d(1024, 256, kernel_size=(1, 1), stride=(1, 1), bias=False)\n",
              "        (bn1): BatchNorm2d(256, eps=1e-05, momentum=0.1, affine=True, track_running_stats=True)\n",
              "        (conv2): Conv2d(256, 256, kernel_size=(3, 3), stride=(1, 1), padding=(1, 1), bias=False)\n",
              "        (bn2): BatchNorm2d(256, eps=1e-05, momentum=0.1, affine=True, track_running_stats=True)\n",
              "        (conv3): Conv2d(256, 1024, kernel_size=(1, 1), stride=(1, 1), bias=False)\n",
              "        (bn3): BatchNorm2d(1024, eps=1e-05, momentum=0.1, affine=True, track_running_stats=True)\n",
              "        (relu): ReLU(inplace=True)\n",
              "      )\n",
              "      (5): Bottleneck(\n",
              "        (conv1): Conv2d(1024, 256, kernel_size=(1, 1), stride=(1, 1), bias=False)\n",
              "        (bn1): BatchNorm2d(256, eps=1e-05, momentum=0.1, affine=True, track_running_stats=True)\n",
              "        (conv2): Conv2d(256, 256, kernel_size=(3, 3), stride=(1, 1), padding=(1, 1), bias=False)\n",
              "        (bn2): BatchNorm2d(256, eps=1e-05, momentum=0.1, affine=True, track_running_stats=True)\n",
              "        (conv3): Conv2d(256, 1024, kernel_size=(1, 1), stride=(1, 1), bias=False)\n",
              "        (bn3): BatchNorm2d(1024, eps=1e-05, momentum=0.1, affine=True, track_running_stats=True)\n",
              "        (relu): ReLU(inplace=True)\n",
              "      )\n",
              "    )\n",
              "    (part_relation2): Part_Relation(\n",
              "      (pooling_attention_0): Sequential(\n",
              "        (0): Conv2d(1024, 128, kernel_size=(1, 1), stride=(1, 1))\n",
              "        (1): BatchNorm2d(128, eps=1e-05, momentum=0.1, affine=True, track_running_stats=True)\n",
              "        (2): ReLU()\n",
              "        (3): Conv2d(128, 16, kernel_size=(1, 1), stride=(1, 1))\n",
              "        (4): BatchNorm2d(16, eps=1e-05, momentum=0.1, affine=True, track_running_stats=True)\n",
              "        (5): ReLU()\n",
              "      )\n",
              "      (pooling_attention_1): Pooling_attention(\n",
              "        (pooling_attention): Sequential(\n",
              "          (0): Conv2d(16, 1, kernel_size=(1, 1), stride=(1, 1))\n",
              "          (1): ReLU()\n",
              "        )\n",
              "      )\n",
              "      (pooling_attention_3): Pooling_attention(\n",
              "        (pooling_attention): Sequential(\n",
              "          (0): Conv2d(16, 1, kernel_size=(3, 3), stride=(1, 1), padding=(1, 1))\n",
              "          (1): ReLU()\n",
              "        )\n",
              "      )\n",
              "      (pooling_attention_5): Pooling_attention(\n",
              "        (pooling_attention): Sequential(\n",
              "          (0): Conv2d(16, 1, kernel_size=(5, 5), stride=(1, 1), padding=(2, 2))\n",
              "          (1): ReLU()\n",
              "        )\n",
              "      )\n",
              "      (last_conv): Sequential(\n",
              "        (0): Conv2d(3, 1, kernel_size=(1, 1), stride=(1, 1))\n",
              "        (1): Sigmoid()\n",
              "      )\n",
              "    )\n",
              "    (backbone3): Sequential(\n",
              "      (0): Bottleneck(\n",
              "        (conv1): Conv2d(1024, 512, kernel_size=(1, 1), stride=(1, 1), bias=False)\n",
              "        (bn1): BatchNorm2d(512, eps=1e-05, momentum=0.1, affine=True, track_running_stats=True)\n",
              "        (conv2): Conv2d(512, 512, kernel_size=(3, 3), stride=(2, 2), padding=(1, 1), bias=False)\n",
              "        (bn2): BatchNorm2d(512, eps=1e-05, momentum=0.1, affine=True, track_running_stats=True)\n",
              "        (conv3): Conv2d(512, 2048, kernel_size=(1, 1), stride=(1, 1), bias=False)\n",
              "        (bn3): BatchNorm2d(2048, eps=1e-05, momentum=0.1, affine=True, track_running_stats=True)\n",
              "        (relu): ReLU(inplace=True)\n",
              "        (downsample): Sequential(\n",
              "          (0): Conv2d(1024, 2048, kernel_size=(1, 1), stride=(2, 2), bias=False)\n",
              "          (1): BatchNorm2d(2048, eps=1e-05, momentum=0.1, affine=True, track_running_stats=True)\n",
              "        )\n",
              "      )\n",
              "      (1): Bottleneck(\n",
              "        (conv1): Conv2d(2048, 512, kernel_size=(1, 1), stride=(1, 1), bias=False)\n",
              "        (bn1): BatchNorm2d(512, eps=1e-05, momentum=0.1, affine=True, track_running_stats=True)\n",
              "        (conv2): Conv2d(512, 512, kernel_size=(3, 3), stride=(1, 1), padding=(1, 1), bias=False)\n",
              "        (bn2): BatchNorm2d(512, eps=1e-05, momentum=0.1, affine=True, track_running_stats=True)\n",
              "        (conv3): Conv2d(512, 2048, kernel_size=(1, 1), stride=(1, 1), bias=False)\n",
              "        (bn3): BatchNorm2d(2048, eps=1e-05, momentum=0.1, affine=True, track_running_stats=True)\n",
              "        (relu): ReLU(inplace=True)\n",
              "      )\n",
              "      (2): Bottleneck(\n",
              "        (conv1): Conv2d(2048, 512, kernel_size=(1, 1), stride=(1, 1), bias=False)\n",
              "        (bn1): BatchNorm2d(512, eps=1e-05, momentum=0.1, affine=True, track_running_stats=True)\n",
              "        (conv2): Conv2d(512, 512, kernel_size=(3, 3), stride=(1, 1), padding=(1, 1), bias=False)\n",
              "        (bn2): BatchNorm2d(512, eps=1e-05, momentum=0.1, affine=True, track_running_stats=True)\n",
              "        (conv3): Conv2d(512, 2048, kernel_size=(1, 1), stride=(1, 1), bias=False)\n",
              "        (bn3): BatchNorm2d(2048, eps=1e-05, momentum=0.1, affine=True, track_running_stats=True)\n",
              "        (relu): ReLU(inplace=True)\n",
              "      )\n",
              "    )\n",
              "    (part_relation3): Part_Relation(\n",
              "      (pooling_attention_0): Sequential(\n",
              "        (0): Conv2d(2048, 256, kernel_size=(1, 1), stride=(1, 1))\n",
              "        (1): BatchNorm2d(256, eps=1e-05, momentum=0.1, affine=True, track_running_stats=True)\n",
              "        (2): ReLU()\n",
              "        (3): Conv2d(256, 16, kernel_size=(1, 1), stride=(1, 1))\n",
              "        (4): BatchNorm2d(16, eps=1e-05, momentum=0.1, affine=True, track_running_stats=True)\n",
              "        (5): ReLU()\n",
              "      )\n",
              "      (pooling_attention_1): Pooling_attention(\n",
              "        (pooling_attention): Sequential(\n",
              "          (0): Conv2d(16, 1, kernel_size=(1, 1), stride=(1, 1))\n",
              "          (1): ReLU()\n",
              "        )\n",
              "      )\n",
              "      (pooling_attention_3): Pooling_attention(\n",
              "        (pooling_attention): Sequential(\n",
              "          (0): Conv2d(16, 1, kernel_size=(3, 3), stride=(1, 1), padding=(1, 1))\n",
              "          (1): ReLU()\n",
              "        )\n",
              "      )\n",
              "      (pooling_attention_5): Pooling_attention(\n",
              "        (pooling_attention): Sequential(\n",
              "          (0): Conv2d(16, 1, kernel_size=(5, 5), stride=(1, 1), padding=(2, 2))\n",
              "          (1): ReLU()\n",
              "        )\n",
              "      )\n",
              "      (last_conv): Sequential(\n",
              "        (0): Conv2d(3, 1, kernel_size=(1, 1), stride=(1, 1))\n",
              "        (1): Sigmoid()\n",
              "      )\n",
              "    )\n",
              "    (gender_encoder): Linear(in_features=1, out_features=32, bias=True)\n",
              "    (gender_bn): BatchNorm1d(32, eps=1e-05, momentum=0.1, affine=True, track_running_stats=True)\n",
              "    (fc0): Linear(in_features=2080, out_features=1024, bias=True)\n",
              "    (bn0): BatchNorm1d(1024, eps=1e-05, momentum=0.1, affine=True, track_running_stats=True)\n",
              "    (fc1): Linear(in_features=1024, out_features=512, bias=True)\n",
              "    (bn1): BatchNorm1d(512, eps=1e-05, momentum=0.1, affine=True, track_running_stats=True)\n",
              "    (output): Linear(in_features=512, out_features=1, bias=True)\n",
              "  )\n",
              "  (adj_learning): Self_Attention_Adj(\n",
              "    (leak_relu): LeakyReLU(negative_slope=0.01)\n",
              "    (softmax): Softmax(dim=1)\n",
              "  )\n",
              "  (gconv): Graph_GCN()\n",
              "  (fc0): Linear(in_features=1056, out_features=1024, bias=True)\n",
              "  (bn0): BatchNorm1d(1024, eps=1e-05, momentum=0.1, affine=True, track_running_stats=True)\n",
              "  (output): Linear(in_features=1024, out_features=1, bias=True)\n",
              ")"
            ]
          },
          "metadata": {
            "tags": []
          },
          "execution_count": 30
        }
      ]
    },
    {
      "cell_type": "code",
      "metadata": {
        "id": "nrSkhLpm_i7O"
      },
      "source": [
        "# def train_fn(net, train_loader, loss_fn, epoch, optimizer, device):\n",
        "#     '''\n",
        "#     checkpoint is a dict\n",
        "#     '''\n",
        "#     global total_size \n",
        "#     global training_loss \n",
        "\n",
        "#     batch_accumulator = 2\n",
        "#     backprop_flag = False\n",
        "#     net.train()\n",
        "#     if xm.is_master_ordinal():\n",
        "#         train_pbar = tqdm(train_loader)\n",
        "#         train_pbar.desc = f'Epoch {epoch + 1}'\n",
        "#     else:\n",
        "#         train_pbar = train_loader\n",
        "\n",
        "#     optimizer.zero_grad()\n",
        "#     for batch_idx, data in enumerate(train_pbar):\n",
        "#         # #put data to GPU\n",
        "#         backprop_flag = False\n",
        "#         size = len(data[1])\n",
        "        \n",
        "#         image, gender = data[0]\n",
        "#         image, gender= image.to(device), gender.to(device)\n",
        "\n",
        "#         label = data[1].to(device)\n",
        "\n",
        "#         batch_size = len(data[1])\n",
        "#         label = data[1].to(device)\n",
        "        \n",
        "#         #forward\n",
        "#         y_pred = net(image, gender)\n",
        "#         y_pred = y_pred.squeeze()\n",
        "\n",
        "#         # print(y_pred, label)\n",
        "#         loss = loss_fn(y_pred, label)\n",
        "#         #backward,calculate gradients\n",
        "#         loss.backward()\n",
        "\n",
        "#         if batch_idx%batch_accumulator == 1:\n",
        "#             backprop_flag = True\n",
        "            \n",
        "#             #backward,update parameter\n",
        "#             xm.optimizer_step(optimizer)\n",
        "#             # zero the parameter gradients\n",
        "#             optimizer.zero_grad()\n",
        "            \n",
        "#         else:\n",
        "#             xm.rendezvous('123')\n",
        "\n",
        "#         #the learning rate should be update after optimizer's update \n",
        "#         #change the learning rate, because using One cycle pollicy,the learning rate should be update per mini-batch\n",
        "#         # scheduler.step()\n",
        "\n",
        "#         batch_loss = loss.item()\n",
        "\n",
        "#         training_loss += batch_loss\n",
        "#         total_size += batch_size\n",
        "#         if xm.is_master_ordinal():\n",
        "#             train_pbar.set_postfix({'loss': batch_loss/batch_size})\n",
        "#     else:\n",
        "#         if backprop_flag == False:\n",
        "#             #backward,update parameter\n",
        "#             xm.optimizer_step(optimizer)\n",
        "#             # zero the parameter gradients\n",
        "#             optimizer.zero_grad()\n",
        "\n",
        "\n",
        "#     return training_loss/total_size "
      ],
      "execution_count": 31,
      "outputs": []
    },
    {
      "cell_type": "code",
      "metadata": {
        "id": "NNMQTCcURnKu"
      },
      "source": [
        "def train_fn(net, train_loader, loss_fn, epoch, optimizer, device):\n",
        "    '''\n",
        "    checkpoint is a dict\n",
        "    '''\n",
        "    global total_size \n",
        "    global training_loss \n",
        "\n",
        "    net.fine_tune()\n",
        "    if xm.is_master_ordinal():\n",
        "        train_pbar = tqdm(train_loader)\n",
        "        train_pbar.desc = f'Epoch {epoch + 1}'\n",
        "    else:\n",
        "        train_pbar = train_loader\n",
        "    for batch_idx, data in enumerate(train_pbar):\n",
        "        # #put data to GPU\n",
        "        size = len(data[1])\n",
        "        \n",
        "        image, gender = data[0]\n",
        "        image, gender= image.to(device), gender.to(device)\n",
        "\n",
        "        label = data[1].to(device)\n",
        "\n",
        "        batch_size = len(data[1])\n",
        "        label = data[1].to(device)\n",
        "        \n",
        "        # zero the parameter gradients\n",
        "        optimizer.zero_grad()\n",
        "        #forward\n",
        "        y_pred = net(image, gender)\n",
        "        y_pred = y_pred.squeeze()\n",
        "\n",
        "        # print(y_pred, label)\n",
        "        loss = loss_fn(y_pred, label)\n",
        "        #backward,calculate gradients\n",
        "        loss.backward()\n",
        "        #backward,update parameter\n",
        "        xm.optimizer_step(optimizer)\n",
        "\n",
        "        #the learning rate should be update after optimizer's update \n",
        "        #change the learning rate, because using One cycle pollicy,the learning rate should be update per mini-batch\n",
        "        # scheduler.step()\n",
        "\n",
        "        batch_loss = loss.item()\n",
        "\n",
        "        training_loss += batch_loss\n",
        "        total_size += batch_size\n",
        "        if xm.is_master_ordinal():\n",
        "            train_pbar.set_postfix({'loss': batch_loss/batch_size})\n",
        "        # print('loss:', batch_loss/batch_size)\n",
        "        # print(f'xla:{xm.get_ordinal()}, batch is{batch_idx}, loss is {mse_loss/total_size}, {size}')\n",
        "    return training_loss/total_size "
      ],
      "execution_count": 32,
      "outputs": []
    },
    {
      "cell_type": "code",
      "metadata": {
        "id": "m5M8QF3ahu9K"
      },
      "source": [
        "def evaluate_fn(net, val_loader, device):\n",
        "    net.fine_tune(False)\n",
        "    \n",
        "    global mae_loss \n",
        "    global val_total_size \n",
        "    with torch.no_grad():\n",
        "        for batch_idx, data in enumerate(val_loader):\n",
        "            val_total_size += len(data[1])\n",
        "\n",
        "            image, gender = data[0]\n",
        "            image, gender= image.to(device), gender.to(device)\n",
        "\n",
        "            label = data[1].to(device)\n",
        "\n",
        "            y_pred = net(image, gender)*boneage_div+boneage_mean\n",
        "            # y_pred = net(image, gender)\n",
        "            y_pred = y_pred.squeeze()\n",
        "\n",
        "            batch_loss = F.l1_loss(y_pred, label, reduction='sum').item()\n",
        "            # print(batch_loss/len(data[1]))\n",
        "            mae_loss += batch_loss\n",
        "    return mae_loss\n",
        "\n",
        "def test_fn(net, test_loader, device):\n",
        "    net.train(False)\n",
        "    \n",
        "    global test_mae_loss \n",
        "    global test_total_size \n",
        "    with torch.no_grad():\n",
        "        for batch_idx, data in enumerate(test_loader):\n",
        "            test_total_size += len(data[1])\n",
        "\n",
        "            image, gender = data[0]\n",
        "            image, gender= image.to(device), gender.to(device)\n",
        "\n",
        "            label = data[1].to(device)\n",
        "\n",
        "            y_pred = net(image, gender)*boneage_div+boneage_mean\n",
        "            # y_pred = net(image, gender)\n",
        "            y_pred = y_pred.squeeze()\n",
        "\n",
        "            batch_loss = F.l1_loss(y_pred, label, reduction='sum').item()\n",
        "            # print(batch_loss/len(data[1]))\n",
        "            test_mae_loss += batch_loss\n",
        "    return mae_loss"
      ],
      "execution_count": 33,
      "outputs": []
    },
    {
      "cell_type": "code",
      "metadata": {
        "id": "obFL4BVuhLpw"
      },
      "source": [
        "def reduce_fn(vals):\n",
        "    return sum(vals)"
      ],
      "execution_count": 34,
      "outputs": []
    },
    {
      "cell_type": "code",
      "metadata": {
        "id": "3t81bdBGDPRB"
      },
      "source": [
        "import torchvision\n",
        "from torchvision import datasets\n",
        "import torchvision.transforms as transforms\n",
        "import torch_xla.distributed.parallel_loader as pl\n",
        "import time\n",
        "\n",
        "def map_fn(index, flags):\n",
        "\n",
        "  ## Setup\n",
        "  root = '/content/drive/My Drive/BAA'\n",
        "  model_name = 'GMRSA50' \n",
        "  path = f'{root}/{model_name}'\n",
        "\n",
        "  if xm.is_master_ordinal():\n",
        "    if not os.path.exists(path):\n",
        "        os.mkdir(path)\n",
        "        \n",
        "  # Sets a common random seed - both for initialization and ensuring graph is the same\n",
        "  seed_everything(seed=flags['seed'])\n",
        "\n",
        "  # Acquires the (unique) Cloud TPU core corresponding to this process's index\n",
        "  device = xm.xla_device()\n",
        "\n",
        "\n",
        "#   mymodel = BAA_base(32)\n",
        "  net = Graph_BAA(model)\n",
        "#   mymodel.load_state_dict(torch.load('/content/drive/My Drive/BAA/resnet50_pr_2/best_resnet50_pr_2.bin'))\n",
        "  net = net.to(device)\n",
        "  \n",
        "  # Creates the (distributed) train sampler, which let this process only access\n",
        "  # its portion of the training dataset.\n",
        "  train_sampler = torch.utils.data.distributed.DistributedSampler(\n",
        "    train_set,\n",
        "    num_replicas=xm.xrt_world_size(),\n",
        "    rank=xm.get_ordinal(),\n",
        "    shuffle=True)\n",
        "  \n",
        "  val_sampler = torch.utils.data.distributed.DistributedSampler(\n",
        "    val_set,\n",
        "    num_replicas=xm.xrt_world_size(),\n",
        "    rank=xm.get_ordinal(),\n",
        "    shuffle=False)\n",
        "  \n",
        "  test_sampler = torch.utils.data.distributed.DistributedSampler(\n",
        "    test_set,\n",
        "    num_replicas=xm.xrt_world_size(),\n",
        "    rank=xm.get_ordinal(),\n",
        "    shuffle=False)\n",
        "  \n",
        "  # Creates dataloaders, which load data in batches\n",
        "  # Note: test loader is not shuffled or sampled\n",
        "  train_loader = torch.utils.data.DataLoader(\n",
        "      train_set,\n",
        "      batch_size=flags['batch_size'],\n",
        "      sampler=train_sampler,\n",
        "      num_workers=flags['num_workers'],\n",
        "      drop_last=True)\n",
        "\n",
        "  val_loader = torch.utils.data.DataLoader(\n",
        "      val_set,\n",
        "      batch_size=flags['batch_size'],\n",
        "      sampler=val_sampler,\n",
        "      shuffle=False,\n",
        "      num_workers=flags['num_workers'])\n",
        "  \n",
        "  test_loader = torch.utils.data.DataLoader(\n",
        "      test_set,\n",
        "      batch_size=flags['batch_size'],\n",
        "      sampler=test_sampler,\n",
        "      shuffle=False,\n",
        "      num_workers=flags['num_workers'])  \n",
        "\n",
        "  ## Network, optimizer, and loss function creation\n",
        "\n",
        "  # Creates AlexNet for 10 classes\n",
        "  # Note: each process has its own identical copy of the model\n",
        "  #  Even though each model is created independently, they're also\n",
        "  #  created in the same way.\n",
        "  net.fine_tune()\n",
        "\n",
        "  global best_loss \n",
        "  best_loss = float('inf')\n",
        "#   loss_fn =  nn.MSELoss(reduction = 'sum')\n",
        "  loss_fn = nn.L1Loss(reduction = 'sum')\n",
        "  lr = flags['lr']\n",
        "\n",
        "  wd = 0\n",
        "    \n",
        "  optimizer = torch.optim.Adam(filter(lambda p: p.requires_grad, net.parameters()), lr=lr, weight_decay=wd)\n",
        "#   optimizer = torch.optim.SGD(net.parameters(), lr=lr, momentum=0.9, weight_decay = wd)\n",
        "  scheduler = StepLR(optimizer, step_size=10, gamma=0.5)\n",
        "\n",
        "  ## Trains\n",
        "  train_start = time.time()\n",
        "  for epoch in range(flags['num_epochs']):\n",
        "    global training_loss \n",
        "    training_loss = torch.tensor([0], dtype = torch.float32)\n",
        "    global total_size \n",
        "    total_size = torch.tensor([0], dtype = torch.float32)\n",
        "\n",
        "    global mae_loss \n",
        "    mae_loss = torch.tensor([0], dtype = torch.float32)\n",
        "    global val_total_size \n",
        "    val_total_size = torch.tensor([0], dtype = torch.float32)\n",
        "\n",
        "    global test_mae_loss \n",
        "    test_mae_loss = torch.tensor([0], dtype = torch.float32)\n",
        "    global test_total_size \n",
        "    test_total_size = torch.tensor([0], dtype = torch.float32)\n",
        "    # xm.rendezvous(\"initialization\")\n",
        "\n",
        "    start_time = time.time()\n",
        "    para_train_loader = pl.ParallelLoader(train_loader, [device]).per_device_loader(device)\n",
        "    train_fn(net, para_train_loader, loss_fn, epoch, optimizer, device)\n",
        "    \n",
        "    ## Evaluation\n",
        "    # Sets net to eval and no grad context\n",
        "    para_val_loader = pl.ParallelLoader(val_loader, [device]).per_device_loader(device)\n",
        "    evaluate_fn(net, para_val_loader, device)\n",
        "\n",
        "    para_test_loader = pl.ParallelLoader(test_loader, [device]).per_device_loader(device)\n",
        "    test_fn(net, para_test_loader, device)\n",
        "\n",
        "    scheduler.step()\n",
        "    \n",
        "    xm.save(net.state_dict(), '/'.join([path, f'{model_name}.bin']))  \n",
        "    training_loss = xm.mesh_reduce('training_loss',training_loss,reduce_fn)\n",
        "    total_size = xm.mesh_reduce('total_size_reduce',total_size,reduce_fn)\n",
        "    mae_loss = xm.mesh_reduce('mae_loss_reduce',mae_loss,reduce_fn)\n",
        "    val_total_size = xm.mesh_reduce('val_total_size_reduce',val_total_size,reduce_fn)\n",
        "    test_mae_loss = xm.mesh_reduce('test_mae_loss_reduce',test_mae_loss,reduce_fn)\n",
        "    test_total_size = xm.mesh_reduce('test_total_size_reduce',test_total_size,reduce_fn)\n",
        "\n",
        "    if xm.is_master_ordinal():\n",
        "        print(test_total_size)\n",
        "        train_loss, val_mae, test_mae = training_loss/total_size, mae_loss/val_total_size, test_mae_loss/test_total_size\n",
        "        print(f'training loss is {train_loss}, val loss is {val_mae}, test loss is {test_mae}, time : {time.time() - start_time}, lr:{optimizer.param_groups[0][\"lr\"]}')\n",
        "\n",
        "\n",
        "    if xm.is_master_ordinal() and best_loss >= test_mae:\n",
        "        best_loss = test_mae\n",
        "        shutil.copy(f'{path}/{model_name}.bin', \\\n",
        "                    f'{path}/best_{model_name}.bin')"
      ],
      "execution_count": 35,
      "outputs": []
    },
    {
      "cell_type": "code",
      "metadata": {
        "colab": {
          "base_uri": "https://localhost:8080/"
        },
        "id": "mMOUJmb1mnag",
        "outputId": "05809df8-5bd8-4782-c213-1b75c74a51e7"
      },
      "source": [
        "flags = {}\n",
        "flags['lr'] = 5e-4\n",
        "flags['batch_size'] = 32\n",
        "flags['num_workers'] = 2\n",
        "flags['num_epochs'] = 100\n",
        "flags['seed'] = 1234\n",
        "\n",
        "torch.set_default_tensor_type('torch.FloatTensor')\n",
        "xmp.spawn(map_fn, args=(flags,), nprocs=8, start_method='fork')"
      ],
      "execution_count": 36,
      "outputs": [
        {
          "output_type": "stream",
          "text": [
            "Epoch 1: 100%|██████████| 49/49 [07:54<00:00,  9.68s/it, loss=0.165]\n"
          ],
          "name": "stderr"
        },
        {
          "output_type": "stream",
          "text": [
            "tensor([200.])\n",
            "training loss is tensor([0.3873]), val loss is tensor([15.8779]), test loss is tensor([13.0494]), time : 609.6314787864685, lr:0.0005\n"
          ],
          "name": "stdout"
        },
        {
          "output_type": "stream",
          "text": [
            "Epoch 2: 100%|██████████| 49/49 [05:45<00:00,  7.05s/it, loss=0.162]\n"
          ],
          "name": "stderr"
        },
        {
          "output_type": "stream",
          "text": [
            "tensor([200.])\n",
            "training loss is tensor([0.2355]), val loss is tensor([7.7334]), test loss is tensor([5.4884]), time : 401.0135827064514, lr:0.0005\n"
          ],
          "name": "stdout"
        },
        {
          "output_type": "stream",
          "text": [
            "Epoch 3: 100%|██████████| 49/49 [05:44<00:00,  7.03s/it, loss=0.179]\n"
          ],
          "name": "stderr"
        },
        {
          "output_type": "stream",
          "text": [
            "tensor([200.])\n",
            "training loss is tensor([0.2284]), val loss is tensor([7.5471]), test loss is tensor([5.3705]), time : 400.247784614563, lr:0.0005\n"
          ],
          "name": "stdout"
        },
        {
          "output_type": "stream",
          "text": [
            "Epoch 4: 100%|██████████| 49/49 [05:44<00:00,  7.02s/it, loss=0.17]\n"
          ],
          "name": "stderr"
        },
        {
          "output_type": "stream",
          "text": [
            "tensor([200.])\n",
            "training loss is tensor([0.2157]), val loss is tensor([8.3794]), test loss is tensor([5.3963]), time : 399.3979070186615, lr:0.0005\n"
          ],
          "name": "stdout"
        },
        {
          "output_type": "stream",
          "text": [
            "Epoch 5: 100%|██████████| 49/49 [05:44<00:00,  7.03s/it, loss=0.153]\n"
          ],
          "name": "stderr"
        },
        {
          "output_type": "stream",
          "text": [
            "tensor([200.])\n",
            "training loss is tensor([0.2151]), val loss is tensor([7.9894]), test loss is tensor([7.0506]), time : 399.973646402359, lr:0.0005\n"
          ],
          "name": "stdout"
        },
        {
          "output_type": "stream",
          "text": [
            "Epoch 6: 100%|██████████| 49/49 [05:44<00:00,  7.02s/it, loss=0.208]\n"
          ],
          "name": "stderr"
        },
        {
          "output_type": "stream",
          "text": [
            "tensor([200.])\n",
            "training loss is tensor([0.2144]), val loss is tensor([8.4459]), test loss is tensor([6.0086]), time : 401.5007815361023, lr:0.0005\n"
          ],
          "name": "stdout"
        },
        {
          "output_type": "stream",
          "text": [
            "Epoch 7: 100%|██████████| 49/49 [05:45<00:00,  7.05s/it, loss=0.161]\n"
          ],
          "name": "stderr"
        },
        {
          "output_type": "stream",
          "text": [
            "tensor([200.])\n",
            "training loss is tensor([0.2131]), val loss is tensor([6.9314]), test loss is tensor([4.5053]), time : 400.1263151168823, lr:0.0005\n"
          ],
          "name": "stdout"
        },
        {
          "output_type": "stream",
          "text": [
            "Epoch 8: 100%|██████████| 49/49 [05:43<00:00,  7.01s/it, loss=0.151]\n"
          ],
          "name": "stderr"
        },
        {
          "output_type": "stream",
          "text": [
            "tensor([200.])\n",
            "training loss is tensor([0.2051]), val loss is tensor([7.4950]), test loss is tensor([6.1522]), time : 399.4718499183655, lr:0.0005\n"
          ],
          "name": "stdout"
        },
        {
          "output_type": "stream",
          "text": [
            "Epoch 9: 100%|██████████| 49/49 [05:47<00:00,  7.09s/it, loss=0.181]\n"
          ],
          "name": "stderr"
        },
        {
          "output_type": "stream",
          "text": [
            "tensor([200.])\n",
            "training loss is tensor([0.2017]), val loss is tensor([7.6478]), test loss is tensor([6.1736]), time : 404.7007157802582, lr:0.0005\n"
          ],
          "name": "stdout"
        },
        {
          "output_type": "stream",
          "text": [
            "Epoch 10: 100%|██████████| 49/49 [05:47<00:00,  7.09s/it, loss=0.156]\n"
          ],
          "name": "stderr"
        },
        {
          "output_type": "stream",
          "text": [
            "tensor([200.])\n",
            "training loss is tensor([0.2044]), val loss is tensor([7.5168]), test loss is tensor([4.8073]), time : 403.33593559265137, lr:0.00025\n"
          ],
          "name": "stdout"
        },
        {
          "output_type": "stream",
          "text": [
            "Epoch 11: 100%|██████████| 49/49 [05:48<00:00,  7.12s/it, loss=0.173]\n"
          ],
          "name": "stderr"
        },
        {
          "output_type": "stream",
          "text": [
            "tensor([200.])\n",
            "training loss is tensor([0.1952]), val loss is tensor([6.6147]), test loss is tensor([4.8046]), time : 404.2060749530792, lr:0.00025\n"
          ],
          "name": "stdout"
        },
        {
          "output_type": "stream",
          "text": [
            "Epoch 12: 100%|██████████| 49/49 [05:48<00:00,  7.12s/it, loss=0.171]\n"
          ],
          "name": "stderr"
        },
        {
          "output_type": "stream",
          "text": [
            "tensor([200.])\n",
            "training loss is tensor([0.1911]), val loss is tensor([6.9607]), test loss is tensor([5.1149]), time : 405.03947472572327, lr:0.00025\n"
          ],
          "name": "stdout"
        },
        {
          "output_type": "stream",
          "text": [
            "Epoch 13: 100%|██████████| 49/49 [05:49<00:00,  7.13s/it, loss=0.159]\n"
          ],
          "name": "stderr"
        },
        {
          "output_type": "stream",
          "text": [
            "tensor([200.])\n",
            "training loss is tensor([0.1905]), val loss is tensor([6.8576]), test loss is tensor([5.3600]), time : 405.76618361473083, lr:0.00025\n"
          ],
          "name": "stdout"
        },
        {
          "output_type": "stream",
          "text": [
            "Epoch 14: 100%|██████████| 49/49 [05:48<00:00,  7.11s/it, loss=0.174]\n"
          ],
          "name": "stderr"
        },
        {
          "output_type": "stream",
          "text": [
            "tensor([200.])\n",
            "training loss is tensor([0.1910]), val loss is tensor([6.8365]), test loss is tensor([4.7159]), time : 403.6927800178528, lr:0.00025\n"
          ],
          "name": "stdout"
        },
        {
          "output_type": "stream",
          "text": [
            "Epoch 15: 100%|██████████| 49/49 [05:50<00:00,  7.16s/it, loss=0.167]\n"
          ],
          "name": "stderr"
        },
        {
          "output_type": "stream",
          "text": [
            "tensor([200.])\n",
            "training loss is tensor([0.1895]), val loss is tensor([6.9319]), test loss is tensor([5.0615]), time : 404.8666248321533, lr:0.00025\n"
          ],
          "name": "stdout"
        },
        {
          "output_type": "stream",
          "text": [
            "Epoch 16: 100%|██████████| 49/49 [05:46<00:00,  7.06s/it, loss=0.159]\n"
          ],
          "name": "stderr"
        },
        {
          "output_type": "stream",
          "text": [
            "tensor([200.])\n",
            "training loss is tensor([0.1897]), val loss is tensor([6.9059]), test loss is tensor([4.3831]), time : 402.816689491272, lr:0.00025\n"
          ],
          "name": "stdout"
        },
        {
          "output_type": "stream",
          "text": [
            "Epoch 17: 100%|██████████| 49/49 [05:44<00:00,  7.02s/it, loss=0.153]\n"
          ],
          "name": "stderr"
        },
        {
          "output_type": "stream",
          "text": [
            "tensor([200.])\n",
            "training loss is tensor([0.1853]), val loss is tensor([6.7581]), test loss is tensor([4.9101]), time : 399.5492777824402, lr:0.00025\n"
          ],
          "name": "stdout"
        },
        {
          "output_type": "stream",
          "text": [
            "Epoch 18: 100%|██████████| 49/49 [05:44<00:00,  7.03s/it, loss=0.186]\n"
          ],
          "name": "stderr"
        },
        {
          "output_type": "stream",
          "text": [
            "tensor([200.])\n",
            "training loss is tensor([0.1865]), val loss is tensor([6.6704]), test loss is tensor([5.2586]), time : 401.17466855049133, lr:0.00025\n"
          ],
          "name": "stdout"
        },
        {
          "output_type": "stream",
          "text": [
            "Epoch 19: 100%|██████████| 49/49 [05:44<00:00,  7.04s/it, loss=0.151]\n"
          ],
          "name": "stderr"
        },
        {
          "output_type": "stream",
          "text": [
            "tensor([200.])\n",
            "training loss is tensor([0.1855]), val loss is tensor([6.7707]), test loss is tensor([5.4887]), time : 398.6513066291809, lr:0.00025\n"
          ],
          "name": "stdout"
        },
        {
          "output_type": "stream",
          "text": [
            "Epoch 20: 100%|██████████| 49/49 [05:45<00:00,  7.05s/it, loss=0.184]\n"
          ],
          "name": "stderr"
        },
        {
          "output_type": "stream",
          "text": [
            "tensor([200.])\n",
            "training loss is tensor([0.1876]), val loss is tensor([8.6736]), test loss is tensor([5.9115]), time : 399.3262982368469, lr:0.000125\n"
          ],
          "name": "stdout"
        },
        {
          "output_type": "stream",
          "text": [
            "Epoch 21: 100%|██████████| 49/49 [05:45<00:00,  7.05s/it, loss=0.164]\n"
          ],
          "name": "stderr"
        },
        {
          "output_type": "stream",
          "text": [
            "tensor([200.])\n",
            "training loss is tensor([0.1810]), val loss is tensor([6.4346]), test loss is tensor([4.5640]), time : 400.52365708351135, lr:0.000125\n"
          ],
          "name": "stdout"
        },
        {
          "output_type": "stream",
          "text": [
            "Epoch 22: 100%|██████████| 49/49 [05:45<00:00,  7.05s/it, loss=0.148]\n"
          ],
          "name": "stderr"
        },
        {
          "output_type": "stream",
          "text": [
            "tensor([200.])\n",
            "training loss is tensor([0.1805]), val loss is tensor([6.6505]), test loss is tensor([4.3695]), time : 399.8444445133209, lr:0.000125\n"
          ],
          "name": "stdout"
        },
        {
          "output_type": "stream",
          "text": [
            "Epoch 23: 100%|██████████| 49/49 [05:43<00:00,  7.00s/it, loss=0.15]\n"
          ],
          "name": "stderr"
        },
        {
          "output_type": "stream",
          "text": [
            "tensor([200.])\n",
            "training loss is tensor([0.1790]), val loss is tensor([7.0814]), test loss is tensor([5.6047]), time : 400.21432757377625, lr:0.000125\n"
          ],
          "name": "stdout"
        },
        {
          "output_type": "stream",
          "text": [
            "Epoch 24: 100%|██████████| 49/49 [05:45<00:00,  7.06s/it, loss=0.164]\n"
          ],
          "name": "stderr"
        },
        {
          "output_type": "stream",
          "text": [
            "tensor([200.])\n",
            "training loss is tensor([0.1805]), val loss is tensor([6.8378]), test loss is tensor([4.8697]), time : 400.61066818237305, lr:0.000125\n"
          ],
          "name": "stdout"
        },
        {
          "output_type": "stream",
          "text": [
            "Epoch 25: 100%|██████████| 49/49 [05:44<00:00,  7.03s/it, loss=0.147]\n"
          ],
          "name": "stderr"
        },
        {
          "output_type": "stream",
          "text": [
            "tensor([200.])\n",
            "training loss is tensor([0.1787]), val loss is tensor([7.0004]), test loss is tensor([4.6869]), time : 400.45540475845337, lr:0.000125\n"
          ],
          "name": "stdout"
        },
        {
          "output_type": "stream",
          "text": [
            "Epoch 26: 100%|██████████| 49/49 [05:45<00:00,  7.05s/it, loss=0.167]\n"
          ],
          "name": "stderr"
        },
        {
          "output_type": "stream",
          "text": [
            "tensor([200.])\n",
            "training loss is tensor([0.1807]), val loss is tensor([6.6205]), test loss is tensor([4.6478]), time : 402.78989481925964, lr:0.000125\n"
          ],
          "name": "stdout"
        },
        {
          "output_type": "stream",
          "text": [
            "Epoch 27: 100%|██████████| 49/49 [05:44<00:00,  7.03s/it, loss=0.138]\n"
          ],
          "name": "stderr"
        },
        {
          "output_type": "stream",
          "text": [
            "tensor([200.])\n",
            "training loss is tensor([0.1785]), val loss is tensor([7.0603]), test loss is tensor([4.5519]), time : 400.83255791664124, lr:0.000125\n"
          ],
          "name": "stdout"
        },
        {
          "output_type": "stream",
          "text": [
            "Epoch 28: 100%|██████████| 49/49 [05:45<00:00,  7.06s/it, loss=0.155]\n"
          ],
          "name": "stderr"
        },
        {
          "output_type": "stream",
          "text": [
            "tensor([200.])\n",
            "training loss is tensor([0.1786]), val loss is tensor([7.0620]), test loss is tensor([5.4769]), time : 400.2486035823822, lr:0.000125\n"
          ],
          "name": "stdout"
        },
        {
          "output_type": "stream",
          "text": [
            "Epoch 29: 100%|██████████| 49/49 [05:46<00:00,  7.06s/it, loss=0.133]\n"
          ],
          "name": "stderr"
        },
        {
          "output_type": "stream",
          "text": [
            "tensor([200.])\n",
            "training loss is tensor([0.1769]), val loss is tensor([7.0352]), test loss is tensor([5.4526]), time : 401.35940051078796, lr:0.000125\n"
          ],
          "name": "stdout"
        },
        {
          "output_type": "stream",
          "text": [
            "Epoch 30: 100%|██████████| 49/49 [05:45<00:00,  7.05s/it, loss=0.148]\n"
          ],
          "name": "stderr"
        },
        {
          "output_type": "stream",
          "text": [
            "tensor([200.])\n",
            "training loss is tensor([0.1752]), val loss is tensor([6.6171]), test loss is tensor([4.8978]), time : 400.39025139808655, lr:6.25e-05\n"
          ],
          "name": "stdout"
        },
        {
          "output_type": "stream",
          "text": [
            "Epoch 31: 100%|██████████| 49/49 [05:44<00:00,  7.04s/it, loss=0.165]\n"
          ],
          "name": "stderr"
        },
        {
          "output_type": "stream",
          "text": [
            "tensor([200.])\n",
            "training loss is tensor([0.1739]), val loss is tensor([6.7359]), test loss is tensor([4.6056]), time : 401.6090519428253, lr:6.25e-05\n"
          ],
          "name": "stdout"
        },
        {
          "output_type": "stream",
          "text": [
            "Epoch 32: 100%|██████████| 49/49 [05:45<00:00,  7.04s/it, loss=0.149]\n"
          ],
          "name": "stderr"
        },
        {
          "output_type": "stream",
          "text": [
            "tensor([200.])\n",
            "training loss is tensor([0.1749]), val loss is tensor([6.8624]), test loss is tensor([4.7843]), time : 401.7999777793884, lr:6.25e-05\n"
          ],
          "name": "stdout"
        },
        {
          "output_type": "stream",
          "text": [
            "Epoch 33: 100%|██████████| 49/49 [05:43<00:00,  7.02s/it, loss=0.149]\n"
          ],
          "name": "stderr"
        },
        {
          "output_type": "stream",
          "text": [
            "tensor([200.])\n",
            "training loss is tensor([0.1749]), val loss is tensor([6.8074]), test loss is tensor([4.9278]), time : 398.6352336406708, lr:6.25e-05\n"
          ],
          "name": "stdout"
        },
        {
          "output_type": "stream",
          "text": [
            "Epoch 34: 100%|██████████| 49/49 [05:44<00:00,  7.04s/it, loss=0.162]\n"
          ],
          "name": "stderr"
        },
        {
          "output_type": "stream",
          "text": [
            "tensor([200.])\n",
            "training loss is tensor([0.1721]), val loss is tensor([7.0789]), test loss is tensor([5.3691]), time : 401.68238735198975, lr:6.25e-05\n"
          ],
          "name": "stdout"
        },
        {
          "output_type": "stream",
          "text": [
            "Epoch 35: 100%|██████████| 49/49 [05:44<00:00,  7.03s/it, loss=0.142]\n"
          ],
          "name": "stderr"
        },
        {
          "output_type": "stream",
          "text": [
            "tensor([200.])\n",
            "training loss is tensor([0.1749]), val loss is tensor([6.8413]), test loss is tensor([4.9498]), time : 400.8501513004303, lr:6.25e-05\n"
          ],
          "name": "stdout"
        },
        {
          "output_type": "stream",
          "text": [
            "Epoch 36: 100%|██████████| 49/49 [05:45<00:00,  7.06s/it, loss=0.154]\n"
          ],
          "name": "stderr"
        },
        {
          "output_type": "stream",
          "text": [
            "tensor([200.])\n",
            "training loss is tensor([0.1739]), val loss is tensor([7.1456]), test loss is tensor([5.2871]), time : 400.2368381023407, lr:6.25e-05\n"
          ],
          "name": "stdout"
        },
        {
          "output_type": "stream",
          "text": [
            "Epoch 37: 100%|██████████| 49/49 [05:46<00:00,  7.07s/it, loss=0.159]\n"
          ],
          "name": "stderr"
        },
        {
          "output_type": "stream",
          "text": [
            "tensor([200.])\n",
            "training loss is tensor([0.1749]), val loss is tensor([6.5151]), test loss is tensor([4.8541]), time : 402.0499861240387, lr:6.25e-05\n"
          ],
          "name": "stdout"
        },
        {
          "output_type": "stream",
          "text": [
            "Epoch 38: 100%|██████████| 49/49 [05:46<00:00,  7.06s/it, loss=0.145]\n"
          ],
          "name": "stderr"
        },
        {
          "output_type": "stream",
          "text": [
            "tensor([200.])\n",
            "training loss is tensor([0.1726]), val loss is tensor([6.9168]), test loss is tensor([4.8062]), time : 400.58694863319397, lr:6.25e-05\n"
          ],
          "name": "stdout"
        },
        {
          "output_type": "stream",
          "text": [
            "Epoch 39: 100%|██████████| 49/49 [05:45<00:00,  7.05s/it, loss=0.16]\n"
          ],
          "name": "stderr"
        },
        {
          "output_type": "stream",
          "text": [
            "tensor([200.])\n",
            "training loss is tensor([0.1713]), val loss is tensor([6.7328]), test loss is tensor([4.9885]), time : 399.931396484375, lr:6.25e-05\n"
          ],
          "name": "stdout"
        },
        {
          "output_type": "stream",
          "text": [
            "Epoch 40: 100%|██████████| 49/49 [05:44<00:00,  7.03s/it, loss=0.147]\n"
          ],
          "name": "stderr"
        },
        {
          "output_type": "stream",
          "text": [
            "tensor([200.])\n",
            "training loss is tensor([0.1718]), val loss is tensor([7.0049]), test loss is tensor([5.1982]), time : 401.50863766670227, lr:3.125e-05\n"
          ],
          "name": "stdout"
        },
        {
          "output_type": "stream",
          "text": [
            "Epoch 41: 100%|██████████| 49/49 [05:45<00:00,  7.05s/it, loss=0.144]\n"
          ],
          "name": "stderr"
        },
        {
          "output_type": "stream",
          "text": [
            "tensor([200.])\n",
            "training loss is tensor([0.1704]), val loss is tensor([6.3943]), test loss is tensor([4.3239]), time : 402.12146854400635, lr:3.125e-05\n"
          ],
          "name": "stdout"
        },
        {
          "output_type": "stream",
          "text": [
            "Epoch 42: 100%|██████████| 49/49 [05:44<00:00,  7.02s/it, loss=0.137]\n"
          ],
          "name": "stderr"
        },
        {
          "output_type": "stream",
          "text": [
            "tensor([200.])\n",
            "training loss is tensor([0.1694]), val loss is tensor([6.8609]), test loss is tensor([4.6975]), time : 398.73919558525085, lr:3.125e-05\n"
          ],
          "name": "stdout"
        },
        {
          "output_type": "stream",
          "text": [
            "Epoch 43: 100%|██████████| 49/49 [05:43<00:00,  7.02s/it, loss=0.149]\n"
          ],
          "name": "stderr"
        },
        {
          "output_type": "stream",
          "text": [
            "tensor([200.])\n",
            "training loss is tensor([0.1695]), val loss is tensor([6.4299]), test loss is tensor([4.3528]), time : 400.033652305603, lr:3.125e-05\n"
          ],
          "name": "stdout"
        },
        {
          "output_type": "stream",
          "text": [
            "Epoch 44: 100%|██████████| 49/49 [05:45<00:00,  7.05s/it, loss=0.147]\n"
          ],
          "name": "stderr"
        },
        {
          "output_type": "stream",
          "text": [
            "tensor([200.])\n",
            "training loss is tensor([0.1714]), val loss is tensor([6.3318]), test loss is tensor([4.1942]), time : 400.98389768600464, lr:3.125e-05\n"
          ],
          "name": "stdout"
        },
        {
          "output_type": "stream",
          "text": [
            "Epoch 45: 100%|██████████| 49/49 [05:42<00:00,  7.00s/it, loss=0.135]\n"
          ],
          "name": "stderr"
        },
        {
          "output_type": "stream",
          "text": [
            "tensor([200.])\n",
            "training loss is tensor([0.1704]), val loss is tensor([6.5649]), test loss is tensor([4.4917]), time : 397.9695599079132, lr:3.125e-05\n"
          ],
          "name": "stdout"
        },
        {
          "output_type": "stream",
          "text": [
            "Epoch 46: 100%|██████████| 49/49 [05:44<00:00,  7.03s/it, loss=0.133]\n"
          ],
          "name": "stderr"
        },
        {
          "output_type": "stream",
          "text": [
            "tensor([200.])\n",
            "training loss is tensor([0.1688]), val loss is tensor([6.3159]), test loss is tensor([4.2557]), time : 400.4574360847473, lr:3.125e-05\n"
          ],
          "name": "stdout"
        },
        {
          "output_type": "stream",
          "text": [
            "Epoch 47: 100%|██████████| 49/49 [05:46<00:00,  7.06s/it, loss=0.145]\n"
          ],
          "name": "stderr"
        },
        {
          "output_type": "stream",
          "text": [
            "tensor([200.])\n",
            "training loss is tensor([0.1685]), val loss is tensor([6.6784]), test loss is tensor([4.4734]), time : 401.7141671180725, lr:3.125e-05\n"
          ],
          "name": "stdout"
        },
        {
          "output_type": "stream",
          "text": [
            "Epoch 48: 100%|██████████| 49/49 [05:45<00:00,  7.05s/it, loss=0.147]\n"
          ],
          "name": "stderr"
        },
        {
          "output_type": "stream",
          "text": [
            "tensor([200.])\n",
            "training loss is tensor([0.1696]), val loss is tensor([6.5290]), test loss is tensor([4.2850]), time : 400.5550172328949, lr:3.125e-05\n"
          ],
          "name": "stdout"
        },
        {
          "output_type": "stream",
          "text": [
            "Epoch 49: 100%|██████████| 49/49 [05:44<00:00,  7.03s/it, loss=0.151]\n"
          ],
          "name": "stderr"
        },
        {
          "output_type": "stream",
          "text": [
            "tensor([200.])\n",
            "training loss is tensor([0.1702]), val loss is tensor([6.4056]), test loss is tensor([4.4444]), time : 398.9069230556488, lr:3.125e-05\n"
          ],
          "name": "stdout"
        },
        {
          "output_type": "stream",
          "text": [
            "Epoch 50: 100%|██████████| 49/49 [05:45<00:00,  7.06s/it, loss=0.141]\n"
          ],
          "name": "stderr"
        },
        {
          "output_type": "stream",
          "text": [
            "tensor([200.])\n",
            "training loss is tensor([0.1689]), val loss is tensor([6.3640]), test loss is tensor([4.2543]), time : 400.95169281959534, lr:1.5625e-05\n"
          ],
          "name": "stdout"
        },
        {
          "output_type": "stream",
          "text": [
            "Epoch 51: 100%|██████████| 49/49 [05:46<00:00,  7.06s/it, loss=0.138]\n"
          ],
          "name": "stderr"
        },
        {
          "output_type": "stream",
          "text": [
            "tensor([200.])\n",
            "training loss is tensor([0.1688]), val loss is tensor([6.4182]), test loss is tensor([4.1044]), time : 402.22457575798035, lr:1.5625e-05\n"
          ],
          "name": "stdout"
        },
        {
          "output_type": "stream",
          "text": [
            "Epoch 52: 100%|██████████| 49/49 [05:44<00:00,  7.03s/it, loss=0.136]\n"
          ],
          "name": "stderr"
        },
        {
          "output_type": "stream",
          "text": [
            "tensor([200.])\n",
            "training loss is tensor([0.1700]), val loss is tensor([6.3133]), test loss is tensor([4.3291]), time : 399.4108180999756, lr:1.5625e-05\n"
          ],
          "name": "stdout"
        },
        {
          "output_type": "stream",
          "text": [
            "Epoch 53: 100%|██████████| 49/49 [05:44<00:00,  7.04s/it, loss=0.144]\n"
          ],
          "name": "stderr"
        },
        {
          "output_type": "stream",
          "text": [
            "tensor([200.])\n",
            "training loss is tensor([0.1686]), val loss is tensor([6.3362]), test loss is tensor([4.1779]), time : 400.8910984992981, lr:1.5625e-05\n"
          ],
          "name": "stdout"
        },
        {
          "output_type": "stream",
          "text": [
            "Epoch 54: 100%|██████████| 49/49 [05:45<00:00,  7.06s/it, loss=0.147]\n"
          ],
          "name": "stderr"
        },
        {
          "output_type": "stream",
          "text": [
            "tensor([200.])\n",
            "training loss is tensor([0.1693]), val loss is tensor([6.3714]), test loss is tensor([4.1971]), time : 399.7308819293976, lr:1.5625e-05\n"
          ],
          "name": "stdout"
        },
        {
          "output_type": "stream",
          "text": [
            "Epoch 55: 100%|██████████| 49/49 [05:45<00:00,  7.04s/it, loss=0.132]\n"
          ],
          "name": "stderr"
        },
        {
          "output_type": "stream",
          "text": [
            "tensor([200.])\n",
            "training loss is tensor([0.1679]), val loss is tensor([6.3032]), test loss is tensor([4.3121]), time : 401.0419578552246, lr:1.5625e-05\n"
          ],
          "name": "stdout"
        },
        {
          "output_type": "stream",
          "text": [
            "Epoch 56: 100%|██████████| 49/49 [05:45<00:00,  7.05s/it, loss=0.128]\n"
          ],
          "name": "stderr"
        },
        {
          "output_type": "stream",
          "text": [
            "tensor([200.])\n",
            "training loss is tensor([0.1683]), val loss is tensor([6.3462]), test loss is tensor([4.1816]), time : 400.50883197784424, lr:1.5625e-05\n"
          ],
          "name": "stdout"
        },
        {
          "output_type": "stream",
          "text": [
            "Epoch 57: 100%|██████████| 49/49 [05:45<00:00,  7.05s/it, loss=0.151]\n"
          ],
          "name": "stderr"
        },
        {
          "output_type": "stream",
          "text": [
            "tensor([200.])\n",
            "training loss is tensor([0.1675]), val loss is tensor([6.4031]), test loss is tensor([4.1202]), time : 400.98950242996216, lr:1.5625e-05\n"
          ],
          "name": "stdout"
        },
        {
          "output_type": "stream",
          "text": [
            "Epoch 58: 100%|██████████| 49/49 [05:44<00:00,  7.03s/it, loss=0.146]\n"
          ],
          "name": "stderr"
        },
        {
          "output_type": "stream",
          "text": [
            "tensor([200.])\n",
            "training loss is tensor([0.1679]), val loss is tensor([6.3606]), test loss is tensor([4.2334]), time : 399.58694529533386, lr:1.5625e-05\n"
          ],
          "name": "stdout"
        },
        {
          "output_type": "stream",
          "text": [
            "Epoch 59: 100%|██████████| 49/49 [05:44<00:00,  7.03s/it, loss=0.129]\n"
          ],
          "name": "stderr"
        },
        {
          "output_type": "stream",
          "text": [
            "tensor([200.])\n",
            "training loss is tensor([0.1669]), val loss is tensor([6.4158]), test loss is tensor([4.0473]), time : 399.6180810928345, lr:1.5625e-05\n"
          ],
          "name": "stdout"
        },
        {
          "output_type": "stream",
          "text": [
            "Epoch 60: 100%|██████████| 49/49 [05:43<00:00,  7.01s/it, loss=0.15]\n"
          ],
          "name": "stderr"
        },
        {
          "output_type": "stream",
          "text": [
            "tensor([200.])\n",
            "training loss is tensor([0.1675]), val loss is tensor([6.3133]), test loss is tensor([4.2974]), time : 398.9371461868286, lr:7.8125e-06\n"
          ],
          "name": "stdout"
        },
        {
          "output_type": "stream",
          "text": [
            "Epoch 61: 100%|██████████| 49/49 [05:43<00:00,  7.01s/it, loss=0.143]\n"
          ],
          "name": "stderr"
        },
        {
          "output_type": "stream",
          "text": [
            "tensor([200.])\n",
            "training loss is tensor([0.1666]), val loss is tensor([6.3474]), test loss is tensor([4.1396]), time : 398.02886271476746, lr:7.8125e-06\n"
          ],
          "name": "stdout"
        },
        {
          "output_type": "stream",
          "text": [
            "Epoch 62: 100%|██████████| 49/49 [05:46<00:00,  7.06s/it, loss=0.138]\n"
          ],
          "name": "stderr"
        },
        {
          "output_type": "stream",
          "text": [
            "tensor([200.])\n",
            "training loss is tensor([0.1682]), val loss is tensor([6.3124]), test loss is tensor([4.2039]), time : 401.0844750404358, lr:7.8125e-06\n"
          ],
          "name": "stdout"
        },
        {
          "output_type": "stream",
          "text": [
            "Epoch 63: 100%|██████████| 49/49 [05:43<00:00,  7.01s/it, loss=0.152]\n"
          ],
          "name": "stderr"
        },
        {
          "output_type": "stream",
          "text": [
            "tensor([200.])\n",
            "training loss is tensor([0.1674]), val loss is tensor([6.3491]), test loss is tensor([4.1218]), time : 398.51811838150024, lr:7.8125e-06\n"
          ],
          "name": "stdout"
        },
        {
          "output_type": "stream",
          "text": [
            "Epoch 64: 100%|██████████| 49/49 [05:43<00:00,  7.02s/it, loss=0.131]\n"
          ],
          "name": "stderr"
        },
        {
          "output_type": "stream",
          "text": [
            "tensor([200.])\n",
            "training loss is tensor([0.1655]), val loss is tensor([6.3636]), test loss is tensor([4.0975]), time : 398.73956274986267, lr:7.8125e-06\n"
          ],
          "name": "stdout"
        },
        {
          "output_type": "stream",
          "text": [
            "Epoch 65: 100%|██████████| 49/49 [05:45<00:00,  7.04s/it, loss=0.149]\n"
          ],
          "name": "stderr"
        },
        {
          "output_type": "stream",
          "text": [
            "tensor([200.])\n",
            "training loss is tensor([0.1663]), val loss is tensor([6.3982]), test loss is tensor([4.0685]), time : 399.8442895412445, lr:7.8125e-06\n"
          ],
          "name": "stdout"
        },
        {
          "output_type": "stream",
          "text": [
            "Epoch 66: 100%|██████████| 49/49 [05:45<00:00,  7.04s/it, loss=0.131]\n"
          ],
          "name": "stderr"
        },
        {
          "output_type": "stream",
          "text": [
            "tensor([200.])\n",
            "training loss is tensor([0.1684]), val loss is tensor([6.3253]), test loss is tensor([4.0476]), time : 399.8942880630493, lr:7.8125e-06\n"
          ],
          "name": "stdout"
        },
        {
          "output_type": "stream",
          "text": [
            "Epoch 67: 100%|██████████| 49/49 [05:44<00:00,  7.03s/it, loss=0.143]\n"
          ],
          "name": "stderr"
        },
        {
          "output_type": "stream",
          "text": [
            "tensor([200.])\n",
            "training loss is tensor([0.1666]), val loss is tensor([6.3404]), test loss is tensor([4.1211]), time : 399.9609293937683, lr:7.8125e-06\n"
          ],
          "name": "stdout"
        },
        {
          "output_type": "stream",
          "text": [
            "Epoch 68: 100%|██████████| 49/49 [05:45<00:00,  7.05s/it, loss=0.13]\n"
          ],
          "name": "stderr"
        },
        {
          "output_type": "stream",
          "text": [
            "tensor([200.])\n",
            "training loss is tensor([0.1676]), val loss is tensor([6.4053]), test loss is tensor([4.2186]), time : 401.29988956451416, lr:7.8125e-06\n"
          ],
          "name": "stdout"
        },
        {
          "output_type": "stream",
          "text": [
            "Epoch 69: 100%|██████████| 49/49 [05:44<00:00,  7.03s/it, loss=0.13]\n"
          ],
          "name": "stderr"
        },
        {
          "output_type": "stream",
          "text": [
            "tensor([200.])\n",
            "training loss is tensor([0.1663]), val loss is tensor([6.3689]), test loss is tensor([4.0671]), time : 399.24451065063477, lr:7.8125e-06\n"
          ],
          "name": "stdout"
        },
        {
          "output_type": "stream",
          "text": [
            "Epoch 70: 100%|██████████| 49/49 [05:44<00:00,  7.04s/it, loss=0.139]\n"
          ],
          "name": "stderr"
        },
        {
          "output_type": "stream",
          "text": [
            "tensor([200.])\n",
            "training loss is tensor([0.1679]), val loss is tensor([6.3703]), test loss is tensor([4.1304]), time : 399.3109178543091, lr:3.90625e-06\n"
          ],
          "name": "stdout"
        },
        {
          "output_type": "stream",
          "text": [
            "Epoch 71: 100%|██████████| 49/49 [05:45<00:00,  7.05s/it, loss=0.118]\n"
          ],
          "name": "stderr"
        },
        {
          "output_type": "stream",
          "text": [
            "tensor([200.])\n",
            "training loss is tensor([0.1655]), val loss is tensor([6.3209]), test loss is tensor([4.1917]), time : 402.340318441391, lr:3.90625e-06\n"
          ],
          "name": "stdout"
        },
        {
          "output_type": "stream",
          "text": [
            "Epoch 72: 100%|██████████| 49/49 [05:43<00:00,  7.02s/it, loss=0.122]\n"
          ],
          "name": "stderr"
        },
        {
          "output_type": "stream",
          "text": [
            "tensor([200.])\n",
            "training loss is tensor([0.1669]), val loss is tensor([6.3196]), test loss is tensor([4.1111]), time : 399.4993100166321, lr:3.90625e-06\n"
          ],
          "name": "stdout"
        },
        {
          "output_type": "stream",
          "text": [
            "Epoch 73: 100%|██████████| 49/49 [05:44<00:00,  7.03s/it, loss=0.128]\n"
          ],
          "name": "stderr"
        },
        {
          "output_type": "stream",
          "text": [
            "tensor([200.])\n",
            "training loss is tensor([0.1684]), val loss is tensor([6.3175]), test loss is tensor([4.3455]), time : 398.86384081840515, lr:3.90625e-06\n"
          ],
          "name": "stdout"
        },
        {
          "output_type": "stream",
          "text": [
            "Epoch 74: 100%|██████████| 49/49 [05:44<00:00,  7.02s/it, loss=0.138]\n"
          ],
          "name": "stderr"
        },
        {
          "output_type": "stream",
          "text": [
            "tensor([200.])\n",
            "training loss is tensor([0.1653]), val loss is tensor([6.3115]), test loss is tensor([4.2852]), time : 399.18833684921265, lr:3.90625e-06\n"
          ],
          "name": "stdout"
        },
        {
          "output_type": "stream",
          "text": [
            "Epoch 75: 100%|██████████| 49/49 [05:46<00:00,  7.07s/it, loss=0.14]\n"
          ],
          "name": "stderr"
        },
        {
          "output_type": "stream",
          "text": [
            "tensor([200.])\n",
            "training loss is tensor([0.1660]), val loss is tensor([6.3247]), test loss is tensor([4.2539]), time : 401.90954780578613, lr:3.90625e-06\n"
          ],
          "name": "stdout"
        },
        {
          "output_type": "stream",
          "text": [
            "Epoch 76: 100%|██████████| 49/49 [05:44<00:00,  7.02s/it, loss=0.141]\n"
          ],
          "name": "stderr"
        },
        {
          "output_type": "stream",
          "text": [
            "tensor([200.])\n",
            "training loss is tensor([0.1661]), val loss is tensor([6.3158]), test loss is tensor([4.2454]), time : 399.88493037223816, lr:3.90625e-06\n"
          ],
          "name": "stdout"
        },
        {
          "output_type": "stream",
          "text": [
            "Epoch 77: 100%|██████████| 49/49 [05:44<00:00,  7.03s/it, loss=0.134]\n"
          ],
          "name": "stderr"
        },
        {
          "output_type": "stream",
          "text": [
            "tensor([200.])\n",
            "training loss is tensor([0.1659]), val loss is tensor([6.3197]), test loss is tensor([4.2080]), time : 399.8862364292145, lr:3.90625e-06\n"
          ],
          "name": "stdout"
        },
        {
          "output_type": "stream",
          "text": [
            "Epoch 78: 100%|██████████| 49/49 [05:44<00:00,  7.03s/it, loss=0.152]\n"
          ],
          "name": "stderr"
        },
        {
          "output_type": "stream",
          "text": [
            "tensor([200.])\n",
            "training loss is tensor([0.1659]), val loss is tensor([6.3374]), test loss is tensor([4.2573]), time : 399.0567317008972, lr:3.90625e-06\n"
          ],
          "name": "stdout"
        },
        {
          "output_type": "stream",
          "text": [
            "Epoch 79: 100%|██████████| 49/49 [05:43<00:00,  7.00s/it, loss=0.131]\n"
          ],
          "name": "stderr"
        },
        {
          "output_type": "stream",
          "text": [
            "tensor([200.])\n",
            "training loss is tensor([0.1676]), val loss is tensor([6.3143]), test loss is tensor([4.2197]), time : 399.12297224998474, lr:3.90625e-06\n"
          ],
          "name": "stdout"
        },
        {
          "output_type": "stream",
          "text": [
            "Epoch 80: 100%|██████████| 49/49 [05:44<00:00,  7.04s/it, loss=0.12]\n"
          ],
          "name": "stderr"
        },
        {
          "output_type": "stream",
          "text": [
            "tensor([200.])\n",
            "training loss is tensor([0.1663]), val loss is tensor([6.3211]), test loss is tensor([4.1723]), time : 400.06136298179626, lr:1.953125e-06\n"
          ],
          "name": "stdout"
        },
        {
          "output_type": "stream",
          "text": [
            "Epoch 81: 100%|██████████| 49/49 [05:44<00:00,  7.03s/it, loss=0.137]\n"
          ],
          "name": "stderr"
        },
        {
          "output_type": "stream",
          "text": [
            "tensor([200.])\n",
            "training loss is tensor([0.1654]), val loss is tensor([6.3162]), test loss is tensor([4.2254]), time : 398.89978861808777, lr:1.953125e-06\n"
          ],
          "name": "stdout"
        },
        {
          "output_type": "stream",
          "text": [
            "Epoch 82: 100%|██████████| 49/49 [05:45<00:00,  7.05s/it, loss=0.147]\n"
          ],
          "name": "stderr"
        },
        {
          "output_type": "stream",
          "text": [
            "tensor([200.])\n",
            "training loss is tensor([0.1645]), val loss is tensor([6.3249]), test loss is tensor([4.1887]), time : 401.33099722862244, lr:1.953125e-06\n"
          ],
          "name": "stdout"
        },
        {
          "output_type": "stream",
          "text": [
            "Epoch 83: 100%|██████████| 49/49 [05:45<00:00,  7.05s/it, loss=0.131]\n"
          ],
          "name": "stderr"
        },
        {
          "output_type": "stream",
          "text": [
            "tensor([200.])\n",
            "training loss is tensor([0.1641]), val loss is tensor([6.3343]), test loss is tensor([4.2067]), time : 401.50519490242004, lr:1.953125e-06\n"
          ],
          "name": "stdout"
        },
        {
          "output_type": "stream",
          "text": [
            "Epoch 84: 100%|██████████| 49/49 [05:43<00:00,  7.01s/it, loss=0.129]\n"
          ],
          "name": "stderr"
        },
        {
          "output_type": "stream",
          "text": [
            "tensor([200.])\n",
            "training loss is tensor([0.1649]), val loss is tensor([6.3215]), test loss is tensor([4.2146]), time : 399.80571484565735, lr:1.953125e-06\n"
          ],
          "name": "stdout"
        },
        {
          "output_type": "stream",
          "text": [
            "Epoch 85: 100%|██████████| 49/49 [05:43<00:00,  7.01s/it, loss=0.159]\n"
          ],
          "name": "stderr"
        },
        {
          "output_type": "stream",
          "text": [
            "tensor([200.])\n",
            "training loss is tensor([0.1648]), val loss is tensor([6.3066]), test loss is tensor([4.2366]), time : 399.98610734939575, lr:1.953125e-06\n"
          ],
          "name": "stdout"
        },
        {
          "output_type": "stream",
          "text": [
            "Epoch 86: 100%|██████████| 49/49 [05:45<00:00,  7.05s/it, loss=0.137]\n"
          ],
          "name": "stderr"
        },
        {
          "output_type": "stream",
          "text": [
            "tensor([200.])\n",
            "training loss is tensor([0.1669]), val loss is tensor([6.3240]), test loss is tensor([4.2139]), time : 400.8823857307434, lr:1.953125e-06\n"
          ],
          "name": "stdout"
        },
        {
          "output_type": "stream",
          "text": [
            "Epoch 87: 100%|██████████| 49/49 [05:45<00:00,  7.05s/it, loss=0.134]\n"
          ],
          "name": "stderr"
        },
        {
          "output_type": "stream",
          "text": [
            "tensor([200.])\n",
            "training loss is tensor([0.1656]), val loss is tensor([6.3167]), test loss is tensor([4.2406]), time : 399.4297640323639, lr:1.953125e-06\n"
          ],
          "name": "stdout"
        },
        {
          "output_type": "stream",
          "text": [
            "Epoch 88: 100%|██████████| 49/49 [05:44<00:00,  7.02s/it, loss=0.145]\n"
          ],
          "name": "stderr"
        },
        {
          "output_type": "stream",
          "text": [
            "tensor([200.])\n",
            "training loss is tensor([0.1651]), val loss is tensor([6.3068]), test loss is tensor([4.2200]), time : 398.17767095565796, lr:1.953125e-06\n"
          ],
          "name": "stdout"
        },
        {
          "output_type": "stream",
          "text": [
            "Epoch 89: 100%|██████████| 49/49 [05:45<00:00,  7.06s/it, loss=0.138]\n"
          ],
          "name": "stderr"
        },
        {
          "output_type": "stream",
          "text": [
            "tensor([200.])\n",
            "training loss is tensor([0.1651]), val loss is tensor([6.3241]), test loss is tensor([4.1892]), time : 402.4414412975311, lr:1.953125e-06\n"
          ],
          "name": "stdout"
        },
        {
          "output_type": "stream",
          "text": [
            "Epoch 90: 100%|██████████| 49/49 [05:45<00:00,  7.05s/it, loss=0.143]\n"
          ],
          "name": "stderr"
        },
        {
          "output_type": "stream",
          "text": [
            "tensor([200.])\n",
            "training loss is tensor([0.1672]), val loss is tensor([6.3259]), test loss is tensor([4.1143]), time : 400.7096734046936, lr:9.765625e-07\n"
          ],
          "name": "stdout"
        },
        {
          "output_type": "stream",
          "text": [
            "Epoch 91: 100%|██████████| 49/49 [05:44<00:00,  7.04s/it, loss=0.136]\n"
          ],
          "name": "stderr"
        },
        {
          "output_type": "stream",
          "text": [
            "tensor([200.])\n",
            "training loss is tensor([0.1668]), val loss is tensor([6.3219]), test loss is tensor([4.1860]), time : 400.54947662353516, lr:9.765625e-07\n"
          ],
          "name": "stdout"
        },
        {
          "output_type": "stream",
          "text": [
            "Epoch 92: 100%|██████████| 49/49 [05:45<00:00,  7.05s/it, loss=0.131]\n"
          ],
          "name": "stderr"
        },
        {
          "output_type": "stream",
          "text": [
            "tensor([200.])\n",
            "training loss is tensor([0.1639]), val loss is tensor([6.3147]), test loss is tensor([4.1169]), time : 402.4234576225281, lr:9.765625e-07\n"
          ],
          "name": "stdout"
        },
        {
          "output_type": "stream",
          "text": [
            "Epoch 93: 100%|██████████| 49/49 [05:45<00:00,  7.05s/it, loss=0.144]\n"
          ],
          "name": "stderr"
        },
        {
          "output_type": "stream",
          "text": [
            "tensor([200.])\n",
            "training loss is tensor([0.1659]), val loss is tensor([6.2995]), test loss is tensor([4.2190]), time : 400.3465642929077, lr:9.765625e-07\n"
          ],
          "name": "stdout"
        },
        {
          "output_type": "stream",
          "text": [
            "Epoch 94: 100%|██████████| 49/49 [05:44<00:00,  7.03s/it, loss=0.14]\n"
          ],
          "name": "stderr"
        },
        {
          "output_type": "stream",
          "text": [
            "tensor([200.])\n",
            "training loss is tensor([0.1672]), val loss is tensor([6.3062]), test loss is tensor([4.2225]), time : 400.3692226409912, lr:9.765625e-07\n"
          ],
          "name": "stdout"
        },
        {
          "output_type": "stream",
          "text": [
            "Epoch 95: 100%|██████████| 49/49 [05:44<00:00,  7.03s/it, loss=0.14]\n"
          ],
          "name": "stderr"
        },
        {
          "output_type": "stream",
          "text": [
            "tensor([200.])\n",
            "training loss is tensor([0.1670]), val loss is tensor([6.3122]), test loss is tensor([4.1941]), time : 399.5193269252777, lr:9.765625e-07\n"
          ],
          "name": "stdout"
        },
        {
          "output_type": "stream",
          "text": [
            "Epoch 96: 100%|██████████| 49/49 [05:46<00:00,  7.07s/it, loss=0.119]\n"
          ],
          "name": "stderr"
        },
        {
          "output_type": "stream",
          "text": [
            "tensor([200.])\n",
            "training loss is tensor([0.1678]), val loss is tensor([6.3312]), test loss is tensor([4.1699]), time : 401.082070350647, lr:9.765625e-07\n"
          ],
          "name": "stdout"
        },
        {
          "output_type": "stream",
          "text": [
            "Epoch 97: 100%|██████████| 49/49 [05:44<00:00,  7.04s/it, loss=0.124]\n"
          ],
          "name": "stderr"
        },
        {
          "output_type": "stream",
          "text": [
            "tensor([200.])\n",
            "training loss is tensor([0.1644]), val loss is tensor([6.3162]), test loss is tensor([4.2106]), time : 400.0932800769806, lr:9.765625e-07\n"
          ],
          "name": "stdout"
        },
        {
          "output_type": "stream",
          "text": [
            "Epoch 98: 100%|██████████| 49/49 [05:44<00:00,  7.03s/it, loss=0.143]\n"
          ],
          "name": "stderr"
        },
        {
          "output_type": "stream",
          "text": [
            "tensor([200.])\n",
            "training loss is tensor([0.1672]), val loss is tensor([6.3184]), test loss is tensor([4.1836]), time : 398.6396176815033, lr:9.765625e-07\n"
          ],
          "name": "stdout"
        },
        {
          "output_type": "stream",
          "text": [
            "Epoch 99: 100%|██████████| 49/49 [05:44<00:00,  7.03s/it, loss=0.122]\n"
          ],
          "name": "stderr"
        },
        {
          "output_type": "stream",
          "text": [
            "tensor([200.])\n",
            "training loss is tensor([0.1667]), val loss is tensor([6.3303]), test loss is tensor([4.1724]), time : 399.8043622970581, lr:9.765625e-07\n"
          ],
          "name": "stdout"
        },
        {
          "output_type": "stream",
          "text": [
            "Epoch 100: 100%|██████████| 49/49 [05:45<00:00,  7.04s/it, loss=0.137]\n"
          ],
          "name": "stderr"
        },
        {
          "output_type": "stream",
          "text": [
            "tensor([200.])\n",
            "training loss is tensor([0.1668]), val loss is tensor([6.3083]), test loss is tensor([4.2188]), time : 400.3767921924591, lr:4.8828125e-07\n"
          ],
          "name": "stdout"
        }
      ]
    },
    {
      "cell_type": "code",
      "metadata": {
        "id": "1JWDtv0837Xy"
      },
      "source": [
        "device = xm.xla_device()"
      ],
      "execution_count": 37,
      "outputs": []
    },
    {
      "cell_type": "code",
      "metadata": {
        "id": "QeG9mU305AoU",
        "colab": {
          "base_uri": "https://localhost:8080/"
        },
        "outputId": "3e3f1d5b-2602-4529-ba88-aaa3fbb0abd5"
      },
      "source": [
        "x = Tensor(torch.rand(32, 1024, 257)).to(device)\n",
        "x"
      ],
      "execution_count": 38,
      "outputs": [
        {
          "output_type": "execute_result",
          "data": {
            "text/plain": [
              "tensor([[[0.1206, 0.9304, 0.3156,  ..., 0.8086, 0.3009, 0.4681],\n",
              "         [0.8815, 0.6837, 0.3707,  ..., 0.7815, 0.9010, 0.3290],\n",
              "         [0.6040, 0.7827, 0.2778,  ..., 0.4897, 0.7872, 0.4663],\n",
              "         ...,\n",
              "         [0.3643, 0.3553, 0.6919,  ..., 0.1567, 0.4761, 0.7770],\n",
              "         [0.4954, 0.3765, 0.5860,  ..., 0.8771, 0.0902, 0.2280],\n",
              "         [0.4037, 0.6879, 0.3242,  ..., 0.8886, 0.6708, 0.8253]],\n",
              "\n",
              "        [[0.2157, 0.7032, 0.0611,  ..., 0.9114, 0.1399, 0.3812],\n",
              "         [0.1914, 0.0599, 0.6663,  ..., 0.8048, 0.0702, 0.2602],\n",
              "         [0.1016, 0.3417, 0.7902,  ..., 0.3945, 0.4644, 0.5231],\n",
              "         ...,\n",
              "         [0.6492, 0.8353, 0.7832,  ..., 0.7838, 0.9490, 0.7168],\n",
              "         [0.0445, 0.4788, 0.8923,  ..., 0.4467, 0.1360, 0.9395],\n",
              "         [0.5989, 0.2481, 0.9290,  ..., 0.4367, 0.8843, 0.9634]],\n",
              "\n",
              "        [[0.1666, 0.6024, 0.8801,  ..., 0.6033, 0.0741, 0.6264],\n",
              "         [0.8297, 0.5550, 0.9606,  ..., 0.7596, 0.0869, 0.9806],\n",
              "         [0.6259, 0.5252, 0.0628,  ..., 0.0047, 0.9107, 0.8001],\n",
              "         ...,\n",
              "         [0.3808, 0.9273, 0.6612,  ..., 0.2522, 0.8813, 0.4394],\n",
              "         [0.7634, 0.0420, 0.3055,  ..., 0.9683, 0.7610, 0.1207],\n",
              "         [0.4130, 0.2716, 0.5515,  ..., 0.9493, 0.0887, 0.0695]],\n",
              "\n",
              "        ...,\n",
              "\n",
              "        [[0.0572, 0.8548, 0.6347,  ..., 0.4161, 0.8735, 0.3335],\n",
              "         [0.5655, 0.6611, 0.4331,  ..., 0.4388, 0.1309, 0.0767],\n",
              "         [0.8438, 0.7054, 0.5498,  ..., 0.6072, 0.0650, 0.7326],\n",
              "         ...,\n",
              "         [0.6256, 0.4596, 0.4522,  ..., 0.4878, 0.7522, 0.3422],\n",
              "         [0.8308, 0.7488, 0.2813,  ..., 0.1954, 0.6842, 0.0232],\n",
              "         [0.4026, 0.9745, 0.9145,  ..., 0.8097, 0.6173, 0.4882]],\n",
              "\n",
              "        [[0.3839, 0.1650, 0.2727,  ..., 0.1571, 0.5209, 0.1119],\n",
              "         [0.1840, 0.5265, 0.8323,  ..., 0.2330, 0.0363, 0.4392],\n",
              "         [0.2936, 0.9958, 0.1082,  ..., 0.0306, 0.6702, 0.9346],\n",
              "         ...,\n",
              "         [0.0714, 0.6951, 0.0662,  ..., 0.9672, 0.5078, 0.8757],\n",
              "         [0.3966, 0.8550, 0.1886,  ..., 0.5084, 0.3597, 0.4255],\n",
              "         [0.4304, 0.1870, 0.6068,  ..., 0.9849, 0.4928, 0.5260]],\n",
              "\n",
              "        [[0.4275, 0.8011, 0.3547,  ..., 0.1910, 0.2405, 0.2967],\n",
              "         [0.8001, 0.5186, 0.3337,  ..., 0.3418, 0.8000, 0.2985],\n",
              "         [0.0826, 0.8944, 0.6446,  ..., 0.1448, 0.2961, 0.2599],\n",
              "         ...,\n",
              "         [0.6950, 0.2197, 0.6537,  ..., 0.9449, 0.4061, 0.8260],\n",
              "         [0.8330, 0.1640, 0.8917,  ..., 0.9505, 0.9909, 0.4447],\n",
              "         [0.1786, 0.2175, 0.4921,  ..., 0.5089, 0.4732, 0.8669]]],\n",
              "       device='xla:1')"
            ]
          },
          "metadata": {
            "tags": []
          },
          "execution_count": 38
        }
      ]
    },
    {
      "cell_type": "code",
      "metadata": {
        "id": "TRYFcJcuN865",
        "colab": {
          "base_uri": "https://localhost:8080/"
        },
        "outputId": "b3b771cb-c44b-4fbb-9604-5ffd6862bb98"
      },
      "source": [
        "m = nn.AdaptiveAvgPool1d(1)\n",
        "input = torch.randn(1, 64, 8)\n",
        "output = m(input)\n",
        "output.shape"
      ],
      "execution_count": 39,
      "outputs": [
        {
          "output_type": "execute_result",
          "data": {
            "text/plain": [
              "torch.Size([1, 64, 1])"
            ]
          },
          "metadata": {
            "tags": []
          },
          "execution_count": 39
        }
      ]
    },
    {
      "cell_type": "code",
      "metadata": {
        "id": "JiC364ummwTk",
        "colab": {
          "base_uri": "https://localhost:8080/"
        },
        "outputId": "37f01fea-74ef-4227-9101-688a69d60204"
      },
      "source": [
        "%tb"
      ],
      "execution_count": 40,
      "outputs": [
        {
          "output_type": "stream",
          "text": [
            "No traceback available to show.\n"
          ],
          "name": "stderr"
        }
      ]
    },
    {
      "cell_type": "code",
      "metadata": {
        "id": "jWpoaeu5o_S3"
      },
      "source": [
        "#baseline 5.40 -> 4.42, resnet 50, 16, 3.82, resnet 50, 32, 4.22, se-resnet 4.51"
      ],
      "execution_count": 41,
      "outputs": []
    },
    {
      "cell_type": "code",
      "metadata": {
        "id": "V8F8NhLVIOqt"
      },
      "source": [
        ""
      ],
      "execution_count": 41,
      "outputs": []
    }
  ]
}